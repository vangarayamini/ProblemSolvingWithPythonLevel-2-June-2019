{
 "cells": [
  {
   "cell_type": "code",
   "execution_count": null,
   "metadata": {},
   "outputs": [],
   "source": []
  },
  {
   "cell_type": "code",
   "execution_count": null,
   "metadata": {},
   "outputs": [],
   "source": [
    "def FreqDistributionOfWords(filepath):\n",
    "    # Dictionary to be used\n",
    "    # keys -> unique words\n",
    "    # values -> count of unique words\n",
    "    \n",
    "  # Two lists\n",
    "    # Allwords list - \n",
    "    # UniqueWords list - \n",
    "    \n",
    "  # Set\n",
    "    allwords =wordsFromFile(filepath)\n",
    "    uniquewords=uniqueData(fileapth)\n",
    "\n",
    "    for  word in uniquewords:\n",
    "        count=allwords.count(word)\n",
    "        print(word,':',count)\n",
    "    return\n",
    "\n",
    "\n",
    "def FreqDistributionOfWords2(filepath):\n",
    "    allwords=wordsFromFile(filepath)\n",
    "    wordFrequency={}\n",
    "    \n",
    "    for word in allwords:\n",
    "        if word not in wordFrequency.keys():\n",
    "            wordFrequency[word]=1\n",
    "        else:\n",
    "            wordFrequency[word]+=1\n",
    "    return wordFrequency\n",
    "FreqDistributionOfWords2(filepath)\n",
    "    "
   ]
  },
  {
   "cell_type": "code",
   "execution_count": null,
   "metadata": {},
   "outputs": [],
   "source": []
  },
  {
   "cell_type": "code",
   "execution_count": null,
   "metadata": {},
   "outputs": [],
   "source": []
  },
  {
   "cell_type": "code",
   "execution_count": null,
   "metadata": {},
   "outputs": [],
   "source": []
  },
  {
   "cell_type": "code",
   "execution_count": 2,
   "metadata": {},
   "outputs": [],
   "source": [
    "\n",
    "    "
   ]
  },
  {
   "cell_type": "code",
   "execution_count": null,
   "metadata": {},
   "outputs": [],
   "source": []
  },
  {
   "cell_type": "code",
   "execution_count": null,
   "metadata": {},
   "outputs": [],
   "source": [
    "def frequencyCount(filepath): \n",
    "   count = {} \n",
    "   with open(filepath, \"r\") as f:\n",
    "       filedata = f.read().split()\n",
    "       print(filedata)\n",
    "       for i in filedata: \n",
    "           if i not in count: \n",
    "               count[i] = 1\n",
    "           else: \n",
    "               count[i] += 1\n",
    " \n",
    "   for key, value in count.items():\n",
    "       print (\"% s : % d\" %(key, value)) \n",
    "\n",
    "filepath = \"DataFiles/data.txt\"\n",
    "frequencyCount(filepath) "
   ]
  },
  {
   "cell_type": "code",
   "execution_count": null,
   "metadata": {},
   "outputs": [],
   "source": []
  }
 ],
 "metadata": {
  "kernelspec": {
   "display_name": "Python 3",
   "language": "python",
   "name": "python3"
  },
  "language_info": {
   "codemirror_mode": {
    "name": "ipython",
    "version": 3
   },
   "file_extension": ".py",
   "mimetype": "text/x-python",
   "name": "python",
   "nbconvert_exporter": "python",
   "pygments_lexer": "ipython3",
   "version": "3.7.3"
  }
 },
 "nbformat": 4,
 "nbformat_minor": 2
}
