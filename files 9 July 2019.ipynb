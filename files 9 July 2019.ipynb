{
 "cells": [
  {
   "cell_type": "markdown",
   "metadata": {},
   "source": [
    "##  Files in Python\n",
    "- To store the digital information\n",
    "- To work with files in python mainly 3 steps"
   ]
  },
  {
   "cell_type": "code",
   "execution_count": 1,
   "metadata": {},
   "outputs": [
    {
     "name": "stdout",
     "output_type": "stream",
     "text": [
      "Line1\n",
      "Line2\n",
      "Line3\n",
      "Line5\n",
      "Line4\n"
     ]
    }
   ],
   "source": [
    "fh=open('book.txt','r')\n",
    "data=fh.read()\n",
    "print(data)\n",
    "fh.close()"
   ]
  },
  {
   "cell_type": "markdown",
   "metadata": {},
   "source": [
    "### Write(string_data)"
   ]
  },
  {
   "cell_type": "code",
   "execution_count": 3,
   "metadata": {},
   "outputs": [],
   "source": [
    "fh=open('book2.txt','w')\n",
    "data='hi hello'\n",
    "fh.write(data)\n",
    "fh.close()"
   ]
  },
  {
   "cell_type": "code",
   "execution_count": null,
   "metadata": {},
   "outputs": [],
   "source": [
    "fh=open('book2.txt','w')\n",
    "data='who are you?' # In write mode old content will be remove\n",
    "fh.write(data)\n",
    "fh.close()"
   ]
  },
  {
   "cell_type": "code",
   "execution_count": 4,
   "metadata": {},
   "outputs": [],
   "source": [
    "fh=open('book2.txt','a')\n",
    "data='hii everyone' # In append  mode new content will be added to the file\n",
    "fh.write(data)\n",
    "fh.close()"
   ]
  },
  {
   "cell_type": "code",
   "execution_count": 5,
   "metadata": {},
   "outputs": [],
   "source": [
    "fh=open('book3.txt','a')\n",
    "data='hii everyone' # In append  mode if the file is not there it creates a new file and new content will be added to the file\n",
    "fh.write(data)\n",
    "fh.close()"
   ]
  },
  {
   "cell_type": "code",
   "execution_count": 14,
   "metadata": {},
   "outputs": [
    {
     "name": "stdout",
     "output_type": "stream",
     "text": [
      "3 LineC\n",
      "\n"
     ]
    }
   ],
   "source": [
    "fh=open('book.txt','r')\n",
    "count=0\n",
    "for each in fh:\n",
    "    count+=1\n",
    "    if count==3:\n",
    "        print(count,each)\n",
    "fh.close()"
   ]
  },
  {
   "cell_type": "markdown",
   "metadata": {},
   "source": [
    "### Write the content from book.txt to output.txt using python file concept"
   ]
  },
  {
   "cell_type": "code",
   "execution_count": 17,
   "metadata": {},
   "outputs": [],
   "source": [
    "fh=open('book.txt','r')\n",
    "fh1=open('output.txt','w')\n",
    "for each in fh:\n",
    "    fh1.write(each)\n",
    "fh.close()\n",
    "fh1.close()"
   ]
  },
  {
   "cell_type": "code",
   "execution_count": 23,
   "metadata": {},
   "outputs": [],
   "source": [
    "fh=open('book.txt','r')\n",
    "fh1=open('output1.txt','w')\n",
    "sum=0\n",
    "for each in fh.readline():\n",
    "    if each.isdigit():\n",
    "        sum=sum+each\n",
    "    fh1.write(each)\n",
    "fh.close()\n",
    "fh1.close()"
   ]
  },
  {
   "cell_type": "code",
   "execution_count": 61,
   "metadata": {},
   "outputs": [
    {
     "ename": "TypeError",
     "evalue": "'int' object is not callable",
     "output_type": "error",
     "traceback": [
      "\u001b[1;31m---------------------------------------------------------------------------\u001b[0m",
      "\u001b[1;31mTypeError\u001b[0m                                 Traceback (most recent call last)",
      "\u001b[1;32m<ipython-input-61-3a3400b0d892>\u001b[0m in \u001b[0;36m<module>\u001b[1;34m\u001b[0m\n\u001b[0;32m      8\u001b[0m     \u001b[0mmarks\u001b[0m\u001b[1;33m=\u001b[0m\u001b[1;36m0\u001b[0m\u001b[1;33m\u001b[0m\u001b[1;33m\u001b[0m\u001b[0m\n\u001b[0;32m      9\u001b[0m     \u001b[0mname\u001b[0m\u001b[1;33m=\u001b[0m\u001b[0mline\u001b[0m\u001b[1;33m.\u001b[0m\u001b[0msplit\u001b[0m\u001b[1;33m(\u001b[0m\u001b[1;33m)\u001b[0m\u001b[1;33m[\u001b[0m\u001b[1;36m0\u001b[0m\u001b[1;33m]\u001b[0m\u001b[1;33m\u001b[0m\u001b[1;33m\u001b[0m\u001b[0m\n\u001b[1;32m---> 10\u001b[1;33m     \u001b[0mmarks\u001b[0m\u001b[1;33m=\u001b[0m\u001b[0msum\u001b[0m\u001b[1;33m(\u001b[0m\u001b[0mlist\u001b[0m\u001b[1;33m(\u001b[0m\u001b[0mmap\u001b[0m\u001b[1;33m(\u001b[0m\u001b[0mint\u001b[0m\u001b[1;33m,\u001b[0m\u001b[0mline\u001b[0m\u001b[1;33m.\u001b[0m\u001b[0msplit\u001b[0m\u001b[1;33m(\u001b[0m\u001b[1;33m)\u001b[0m\u001b[1;33m[\u001b[0m\u001b[1;36m1\u001b[0m\u001b[1;33m:\u001b[0m\u001b[1;33m]\u001b[0m\u001b[1;33m)\u001b[0m\u001b[1;33m)\u001b[0m\u001b[1;33m)\u001b[0m\u001b[1;33m\u001b[0m\u001b[1;33m\u001b[0m\u001b[0m\n\u001b[0m\u001b[0;32m     11\u001b[0m     \u001b[0mfh_o\u001b[0m\u001b[1;33m.\u001b[0m\u001b[0mwrite\u001b[0m\u001b[1;33m(\u001b[0m\u001b[0mname\u001b[0m\u001b[1;33m+\u001b[0m\u001b[1;34m' '\u001b[0m\u001b[1;33m+\u001b[0m\u001b[0mstr\u001b[0m\u001b[1;33m(\u001b[0m\u001b[0mmarks\u001b[0m\u001b[1;33m)\u001b[0m\u001b[1;33m+\u001b[0m\u001b[1;34m'\\n'\u001b[0m\u001b[1;33m)\u001b[0m\u001b[1;33m\u001b[0m\u001b[1;33m\u001b[0m\u001b[0m\n\u001b[0;32m     12\u001b[0m \u001b[0mfh_i\u001b[0m\u001b[1;33m.\u001b[0m\u001b[0mclose\u001b[0m\u001b[1;33m(\u001b[0m\u001b[1;33m)\u001b[0m\u001b[1;33m\u001b[0m\u001b[1;33m\u001b[0m\u001b[0m\n",
      "\u001b[1;31mTypeError\u001b[0m: 'int' object is not callable"
     ]
    }
   ],
   "source": [
    "fh_i=open('book.txt','r')\n",
    "fh_o=open('output1.txt','w')\n",
    "count=0\n",
    "for line in fh_i:\n",
    "    count+=1\n",
    "    if count==1:\n",
    "        continue\n",
    "    marks=0\n",
    "    name=line.split()[0]\n",
    "    marks=sum(list(map(int,line.split()[1:])))  \n",
    "    fh_o.write(name+' '+str(marks)+'\\n')\n",
    "fh_i.close()\n",
    "fh_o.close()\n"
   ]
  },
  {
   "cell_type": "code",
   "execution_count": 65,
   "metadata": {},
   "outputs": [
    {
     "name": "stdout",
     "output_type": "stream",
     "text": [
      "3\n",
      "https://www.fb.com\n",
      "https://www.hearth.com\n",
      "https://www.ama.in\n",
      "{'com': 2, 'in': 1}\n",
      "com\n"
     ]
    }
   ],
   "source": [
    "n=int(input())\n",
    "d={}\n",
    "for i in range(0,n,1):\n",
    "    n=list(map(str,input().split('.')))\n",
    "    if n[-1] not in d:\n",
    "        d[n[-1]]=1\n",
    "    else:\n",
    "        d[n[-1]]+=1\n",
    "print(d)\n",
    "m=-123\n",
    "for key,value in d.items():\n",
    "    if value>m:\n",
    "        m=value\n",
    "        name=key\n",
    "print(name)"
   ]
  },
  {
   "cell_type": "code",
   "execution_count": null,
   "metadata": {},
   "outputs": [],
   "source": [
    "l=[]\n",
    "while True:\n",
    "    num=input()\n",
    "    if num.isdigit():\n",
    "        l=l+[num]\n",
    "    if num==\"EXIT\":\n",
    "        break\n",
    "print(l)"
   ]
  },
  {
   "cell_type": "code",
   "execution_count": null,
   "metadata": {},
   "outputs": [],
   "source": [
    "## "
   ]
  },
  {
   "cell_type": "code",
   "execution_count": null,
   "metadata": {},
   "outputs": [],
   "source": []
  },
  {
   "cell_type": "code",
   "execution_count": 1,
   "metadata": {},
   "outputs": [
    {
     "name": "stdout",
     "output_type": "stream",
     "text": [
      "14\n",
      "16\n",
      "32\n",
      "55\n",
      "64\n",
      "67\n",
      "EXIT\n",
      "['14', '16', '32', '55', '64', '67']\n",
      "['14', '16', '32', '64']\n",
      "14 16 32 64 \n",
      "64\n",
      "['14', '16', '32', '55', '64', '67']\n",
      "['14', '16', '32', '64']\n",
      "14 16 32 64 \n",
      "64\n"
     ]
    }
   ],
   "source": [
    "l=[]\n",
    "while True:\n",
    "    num=input()\n",
    "    if num.isdigit():\n",
    "        l=l+[num]\n",
    "    if num==\"EXIT\":\n",
    "        break\n",
    "print(l)\n",
    "even=[]\n",
    "for i in range(0,len(l),1):\n",
    "    if int(l[i])%2==0:\n",
    "        even+=[l[i]]\n",
    "print(even)\n",
    "for i in range(0,len(even),1):\n",
    "    print(even[i],end=\" \")\n",
    "print()\n",
    "print(max(even))\n",
    "        "
   ]
  },
  {
   "cell_type": "markdown",
   "metadata": {},
   "source": [
    "## "
   ]
  },
  {
   "cell_type": "code",
   "execution_count": 3,
   "metadata": {},
   "outputs": [],
   "source": [
    "fh_i=open('book.txt','r')\n",
    "fh_o=open('output1.txt','w')\n",
    "count=0\n",
    "for line in fh_i:\n",
    "    count+=1\n",
    "    if count==1:\n",
    "        fh_o.write(line.strip()+'\\ttotal')\n",
    "    else:\n",
    "        marks=sum(list(map(int,line.split()[1:])))\n",
    "        fh_o.write('\\n'+line.strip()+'\\t'+str(marks))\n",
    "fh_i.close()\n",
    "fh_o.close()"
   ]
  },
  {
   "cell_type": "code",
   "execution_count": 4,
   "metadata": {},
   "outputs": [
    {
     "name": "stdout",
     "output_type": "stream",
     "text": [
      "i am at 0\n",
      "i am at 49\n",
      "\n"
     ]
    },
    {
     "data": {
      "text/plain": [
       "<function TextIOWrapper.close()>"
      ]
     },
     "execution_count": 4,
     "metadata": {},
     "output_type": "execute_result"
    }
   ],
   "source": [
    "fh=open('output.txt')\n",
    "print('i am at',fh.tell())\n",
    "data=fh.read()\n",
    "print('i am at',fh.tell())\n",
    "data=fh.read()\n",
    "print(data)\n",
    "fh.close"
   ]
  },
  {
   "cell_type": "code",
   "execution_count": 5,
   "metadata": {},
   "outputs": [
    {
     "name": "stdout",
     "output_type": "stream",
     "text": [
      "i am at 0\n",
      "i am at 49\n",
      "i am at 10\n",
      "70  60\n",
      "ravi  70 60  70\n",
      "sasi  60 60  60\n",
      "\n"
     ]
    },
    {
     "data": {
      "text/plain": [
       "<function TextIOWrapper.close()>"
      ]
     },
     "execution_count": 5,
     "metadata": {},
     "output_type": "execute_result"
    }
   ],
   "source": [
    "fh=open('output.txt')\n",
    "print('i am at',fh.tell())\n",
    "data=fh.read()\n",
    "print('i am at',fh.tell())\n",
    "fh.seek(10)\n",
    "print('i am at',fh.tell())\n",
    "data=fh.read()\n",
    "print(data)\n",
    "fh.close"
   ]
  },
  {
   "cell_type": "markdown",
   "metadata": {},
   "source": [
    "### fh.readline()    \n",
    "### readlines return type -> List\n",
    "### read mode return type -> string\n",
    "### readline mode return type -> string"
   ]
  },
  {
   "cell_type": "code",
   "execution_count": 8,
   "metadata": {},
   "outputs": [
    {
     "name": "stdout",
     "output_type": "stream",
     "text": [
      "sai   80 70  60\n",
      "\n"
     ]
    }
   ],
   "source": [
    "fh=open('output.txt','r')\n",
    "data=fh.readline()\n",
    "data=fh.readline()\n",
    "print(data)\n",
    "fh.close()"
   ]
  },
  {
   "cell_type": "markdown",
   "metadata": {},
   "source": [
    "### l=[]\n",
    "while True:\n",
    "    n=input()\n",
    "    if n.isdigit():\n",
    "        l.append(n)\n",
    "    if n=='EXIT':\n",
    "        break\n",
    "print(l)\n",
    "even=[]\n",
    "for i in range(0,len(l),1):\n",
    "    if int(l[i])%2==0:\n",
    "        even.append(l[i])\n",
    "print(even)\n",
    "    "
   ]
  },
  {
   "cell_type": "code",
   "execution_count": 4,
   "metadata": {},
   "outputs": [
    {
     "name": "stdout",
     "output_type": "stream",
     "text": [
      "45\n",
      "23\n",
      "44\n",
      "28\n",
      "68\n",
      "EXIT\n",
      "['45', '23', '44', '28', '68']\n",
      "[44, 28, 68]\n",
      "68\n"
     ]
    }
   ],
   "source": [
    "l=[]\n",
    "while True:\n",
    "    n=input()\n",
    "    if n.isdigit():\n",
    "        l.append(n)\n",
    "    if n=='EXIT':\n",
    "        break\n",
    "print(l)\n",
    "even=[]\n",
    "for i in range(0,len(l),1):\n",
    "    if int(l[i])%2==0:\n",
    "        even.append(int(l[i]))\n",
    "print(even)\n",
    "max=-123\n",
    "for i in range(0,len(even),1):\n",
    "    if max<even[i]:\n",
    "        max=even[i]\n",
    "print(max)"
   ]
  },
  {
   "cell_type": "code",
   "execution_count": 6,
   "metadata": {},
   "outputs": [
    {
     "name": "stdout",
     "output_type": "stream",
     "text": [
      "3\n",
      "56\n",
      "86\n",
      "24\n",
      "34\n",
      "EXIT\n",
      "['3', '56', '86', '24', '34']\n",
      "[56, 86, 24, 34]\n",
      "86\n"
     ]
    }
   ],
   "source": [
    "l=[]\n",
    "while True:\n",
    "    n=input()\n",
    "    if n.isdigit():\n",
    "        l.append(n)\n",
    "    if n=='EXIT':\n",
    "        break\n",
    "print(l)\n",
    "even=[]\n",
    "for i in range(0,len(l),1):\n",
    "    if int(l[i])%2==0:\n",
    "        even.append(int(l[i]))\n",
    "print(even)\n",
    "even.sort()\n",
    "print(even[-1])\n",
    "# max=-12432\n",
    "# for i in range(0,len(even),1):\n",
    "#     if max<even[i]:\n",
    "#         max=even[i]\n",
    "# print(max)\n"
   ]
  },
  {
   "cell_type": "code",
   "execution_count": 7,
   "metadata": {},
   "outputs": [
    {
     "data": {
      "text/plain": [
       "['In',\n",
       " 'Out',\n",
       " '_',\n",
       " '__',\n",
       " '___',\n",
       " '__builtin__',\n",
       " '__builtins__',\n",
       " '__doc__',\n",
       " '__loader__',\n",
       " '__name__',\n",
       " '__package__',\n",
       " '__spec__',\n",
       " '_dh',\n",
       " '_i',\n",
       " '_i1',\n",
       " '_i2',\n",
       " '_i3',\n",
       " '_i4',\n",
       " '_i5',\n",
       " '_i6',\n",
       " '_i7',\n",
       " '_ih',\n",
       " '_ii',\n",
       " '_iii',\n",
       " '_oh',\n",
       " 'even',\n",
       " 'exit',\n",
       " 'get_ipython',\n",
       " 'i',\n",
       " 'l',\n",
       " 'max',\n",
       " 'n',\n",
       " 'quit']"
      ]
     },
     "execution_count": 7,
     "metadata": {},
     "output_type": "execute_result"
    }
   ],
   "source": [
    "dir()"
   ]
  },
  {
   "cell_type": "code",
   "execution_count": null,
   "metadata": {},
   "outputs": [],
   "source": []
  },
  {
   "cell_type": "code",
   "execution_count": null,
   "metadata": {},
   "outputs": [],
   "source": []
  }
 ],
 "metadata": {
  "kernelspec": {
   "display_name": "Python 3",
   "language": "python",
   "name": "python3"
  },
  "language_info": {
   "codemirror_mode": {
    "name": "ipython",
    "version": 3
   },
   "file_extension": ".py",
   "mimetype": "text/x-python",
   "name": "python",
   "nbconvert_exporter": "python",
   "pygments_lexer": "ipython3",
   "version": "3.7.3"
  }
 },
 "nbformat": 4,
 "nbformat_minor": 2
}
