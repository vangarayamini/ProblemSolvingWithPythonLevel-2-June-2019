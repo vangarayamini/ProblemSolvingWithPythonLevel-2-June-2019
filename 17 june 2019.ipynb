{
 "cells": [
  {
   "cell_type": "code",
   "execution_count": 1,
   "metadata": {},
   "outputs": [
    {
     "data": {
      "text/plain": [
       "97"
      ]
     },
     "execution_count": 1,
     "metadata": {},
     "output_type": "execute_result"
    }
   ],
   "source": [
    "ord('a')"
   ]
  },
  {
   "cell_type": "code",
   "execution_count": 4,
   "metadata": {},
   "outputs": [
    {
     "name": "stdout",
     "output_type": "stream",
     "text": [
      "enter a string  13543\n",
      "not a palindrome\n"
     ]
    }
   ],
   "source": [
    "s=input(\"enter a string  \")\n",
    "s1=s[::-1]\n",
    "if s==s1:\n",
    "    print(\"palindrome\")\n",
    "else:\n",
    "    print(\"not a palindrome\")"
   ]
  },
  {
   "cell_type": "code",
   "execution_count": 1,
   "metadata": {},
   "outputs": [
    {
     "name": "stdout",
     "output_type": "stream",
     "text": [
      "enter a string  abvbAAcfg\n",
      "ABVBaaCFG\n"
     ]
    }
   ],
   "source": [
    "# Toggle String\n",
    "\n",
    "s=input(\"enter a string  \")\n",
    "s1=s.swapcase()\n",
    "print(s1)\n",
    "    "
   ]
  },
  {
   "cell_type": "code",
   "execution_count": 2,
   "metadata": {},
   "outputs": [
    {
     "name": "stdout",
     "output_type": "stream",
     "text": [
      "10\n"
     ]
    }
   ],
   "source": [
    "# count Divisors\n",
    "\n",
    "def CountDivisors(l,r,k):\n",
    "    count=0\n",
    "    for i in range(l,r+1):\n",
    "        if i%k==0:\n",
    "            count=count+1\n",
    "    print(count)\n",
    "CountDivisors(1,10,1)"
   ]
  },
  {
   "cell_type": "code",
   "execution_count": 3,
   "metadata": {},
   "outputs": [
    {
     "name": "stdout",
     "output_type": "stream",
     "text": [
      "10\n",
      "2 3 5 7 "
     ]
    }
   ],
   "source": [
    "# Prime Numbers\n",
    "\n",
    "def prime(n):\n",
    "  for i in range(2,n+1,1):\n",
    "      count=0\n",
    "      for j in range(1,i+1,1):\n",
    "          if i%j==0:\n",
    "              count=count+1\n",
    "      if count==2:\n",
    "          print(i,end=\" \")\n",
    "n=int(input())\n",
    "prime(n)\n",
    "\n"
   ]
  },
  {
   "cell_type": "code",
   "execution_count": 1,
   "metadata": {},
   "outputs": [
    {
     "name": "stdout",
     "output_type": "stream",
     "text": [
      "3\n",
      "sumit mitsu\n",
      "string strngi\n",
      "yam may\n",
      "yes\n"
     ]
    }
   ],
   "source": [
    "def twostrings(s1,s2):\n",
    "   c=0\n",
    "   for char in range(0,len(s1)):\n",
    "       if (s1[char] in s2)!=True:\n",
    "           c=1\n",
    "   if(c==1):\n",
    "       print(\"No\")\n",
    "   else :\n",
    "       print(\"yes\")\n",
    "\n",
    "n=int(input())        \n",
    "for i in range(0,n,1):\n",
    "   s=input()\n",
    "   s=s.split()\n",
    "   s1=s[0]\n",
    "   s2=s[1]\n",
    "twostrings(s1,s2)"
   ]
  },
  {
   "cell_type": "code",
   "execution_count": 3,
   "metadata": {},
   "outputs": [
    {
     "data": {
      "text/plain": [
       "'aBc'"
      ]
     },
     "execution_count": 3,
     "metadata": {},
     "output_type": "execute_result"
    }
   ],
   "source": [
    "def toggleString(s):\n",
    "    # Coonvert the string in to a list\n",
    "    s=list(s)\n",
    "    t=[]\n",
    "    for c in s:\n",
    "        if c.islower():\n",
    "            t.append(c.upper())\n",
    "        else:\n",
    "            t.append(c.lower())\n",
    "    return \"\".join(t)\n",
    "toggleString(\"AbC\")"
   ]
  },
  {
   "cell_type": "markdown",
   "metadata": {},
   "source": [
    " # Problem:Duration \n",
    "    Input:  start time,end time(HH MM)\n",
    "        \n",
    "        HH-{00,01,02,03.....23}-{00 00,23 59}\n",
    "        MM-{00,01,02,03.....59}\n",
    "        HH MM-{00 00,23 59}\n",
    "        \n",
    "    Output: time difference in HH MM"
   ]
  },
  {
   "cell_type": "code",
   "execution_count": 5,
   "metadata": {},
   "outputs": [
    {
     "name": "stdout",
     "output_type": "stream",
     "text": [
      "5 41\n"
     ]
    }
   ],
   "source": [
    "# Calculate the time difference as total number of hours\n",
    "# convert the total minutes in to HH MM\n",
    "\n",
    "s=\"2 42 8 23\"\n",
    "def minuteDifference(s):\n",
    "    s=s.split()\n",
    "    sh=int(s[0])\n",
    "    sm=int(s[1])\n",
    "    eh=int(s[2])\n",
    "    em=int(s[3])\n",
    "    startminutes=(sh*60)+sm\n",
    "    endminutes=(eh*60)+em\n",
    "    return endminutes-startminutes\n",
    "def outputTimeFormat(minutes):\n",
    "    # Convert minutes to HH MM\n",
    "    hh=minutes//60\n",
    "    mm=minutes%60\n",
    "    print(hh,mm)\n",
    "    return \n",
    "minutes=minuteDifference(s)\n",
    "outputTimeFormat(minutes)\n",
    "    \n"
   ]
  },
  {
   "cell_type": "markdown",
   "metadata": {},
   "source": [
    "## Play with numbers\n",
    "\n",
    "line 1: array size(n), no. of queries(q)\n",
    "line 2: n array elements\n",
    "next q lines: query-sub array of the original"
   ]
  },
  {
   "cell_type": "code",
   "execution_count": 6,
   "metadata": {},
   "outputs": [
    {
     "name": "stdout",
     "output_type": "stream",
     "text": [
      "safvn\n",
      "62\n"
     ]
    }
   ],
   "source": [
    "#Charsum\n",
    "def charsum(s):\n",
    "   sum=0\n",
    "   \n",
    "   for i in range(0,len(s),1):\n",
    "       sum=sum+((ord(s[i]))-96)\n",
    "   print(sum)\n",
    "   \n",
    "s=input()\n",
    "charsum(s)"
   ]
  },
  {
   "cell_type": "code",
   "execution_count": 7,
   "metadata": {},
   "outputs": [
    {
     "name": "stdout",
     "output_type": "stream",
     "text": [
      "1\n",
      "sumit mitsu\n",
      "YES\n"
     ]
    }
   ],
   "source": [
    "#two strings program\n",
    "n=int(input())\n",
    "for i in range(n):\n",
    "   z=list(input().split(' '))\n",
    "   if sorted(z[0])==sorted(z[1]):\n",
    "       print(\"YES\")\n",
    "   else:\n",
    "       print(\"NO\")"
   ]
  },
  {
   "cell_type": "code",
   "execution_count": null,
   "metadata": {},
   "outputs": [],
   "source": []
  }
 ],
 "metadata": {
  "kernelspec": {
   "display_name": "Python 3",
   "language": "python",
   "name": "python3"
  },
  "language_info": {
   "codemirror_mode": {
    "name": "ipython",
    "version": 3
   },
   "file_extension": ".py",
   "mimetype": "text/x-python",
   "name": "python",
   "nbconvert_exporter": "python",
   "pygments_lexer": "ipython3",
   "version": "3.7.3"
  }
 },
 "nbformat": 4,
 "nbformat_minor": 2
}
