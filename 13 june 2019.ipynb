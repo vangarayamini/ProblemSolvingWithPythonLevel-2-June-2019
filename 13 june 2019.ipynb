{
 "cells": [
  {
   "cell_type": "code",
   "execution_count": 1,
   "metadata": {},
   "outputs": [
    {
     "data": {
      "text/plain": [
       "66"
      ]
     },
     "execution_count": 1,
     "metadata": {},
     "output_type": "execute_result"
    }
   ],
   "source": [
    "#fuction to calculate the sum of numbers in range \n",
    "def sumRange(start,end):\n",
    "    sum=0 \n",
    "    for i in range(start, end+1): \n",
    "        sum=sum+i \n",
    "    return sum \n",
    "sumRange(1,11)\n"
   ]
  },
  {
   "cell_type": "code",
   "execution_count": 6,
   "metadata": {},
   "outputs": [
    {
     "data": {
      "text/plain": [
       "3.0"
      ]
     },
     "execution_count": 6,
     "metadata": {},
     "output_type": "execute_result"
    }
   ],
   "source": [
    "#function to calculate the average of a given range\n",
    "#(1,5)->3 \n",
    "def avgNum(start,end):\n",
    "    sum=0\n",
    "    diff=end-start+1\n",
    "    for i in range(start,end+1):\n",
    "        sum=sum+i\n",
    "    return sum/diff\n",
    "avgNum(1,5)"
   ]
  },
  {
   "cell_type": "code",
   "execution_count": 5,
   "metadata": {},
   "outputs": [
    {
     "name": "stdout",
     "output_type": "stream",
     "text": [
      "1976 1980 1984 1988 1992 1996 "
     ]
    }
   ],
   "source": [
    "#function to generate all leap years in a given time period \n",
    "#2000-2020->2000 2004,2008,2012,2016,2020\n",
    "def isLeapYear(year):\n",
    "    if (year%400==0 or year%100!=0) and year%4==0: \n",
    "        return True\n",
    "    return False\n",
    "def generateLeapYears(startyear,endyear):\n",
    "    for year in range(startyear,endyear+1):\n",
    "        if isLeapYear(year):\n",
    "            print(year,end=\" \")\n",
    "    return\n",
    "generateLeapYears(1975,1999)"
   ]
  },
  {
   "cell_type": "code",
   "execution_count": 8,
   "metadata": {},
   "outputs": [
    {
     "data": {
      "text/plain": [
       "730"
      ]
     },
     "execution_count": 8,
     "metadata": {},
     "output_type": "execute_result"
    }
   ],
   "source": [
    "#calculate number of days in a given time period\n",
    "def numOfDays(startyear,endyear):\n",
    "    sum=0 \n",
    "    for year in range(startyear,endyear+1):\n",
    "        if isLeapYear(year):\n",
    "            sum=sum+366 \n",
    "        else: \n",
    "            sum=sum+365\n",
    "    return sum\n",
    "numOfDays(2017,2018)"
   ]
  },
  {
   "cell_type": "code",
   "execution_count": 9,
   "metadata": {},
   "outputs": [
    {
     "data": {
      "text/plain": [
       "17520"
      ]
     },
     "execution_count": 9,
     "metadata": {},
     "output_type": "execute_result"
    }
   ],
   "source": [
    "#function to calculate number of hours for a given time period\n",
    "def noOfHours(startyear,endyear):\n",
    "    hours=24\n",
    "    return numOfDays(startyear,endyear)*hours \n",
    "noOfHours(2017,2018)\n"
   ]
  },
  {
   "cell_type": "code",
   "execution_count": 10,
   "metadata": {},
   "outputs": [
    {
     "data": {
      "text/plain": [
       "29904"
      ]
     },
     "execution_count": 10,
     "metadata": {},
     "output_type": "execute_result"
    }
   ],
   "source": [
    "#function to calculate number of hours for a given time period\n",
    "def numberOfDaysMonth(month,year):\n",
    "    if month ==2:\n",
    "        if isLeapYear(year):\n",
    "            return 29 \n",
    "        return 28\n",
    "    elif (month<=7 and month %2!=0) or (month >=8 and month%2==0):\n",
    "        return 31\n",
    "    else:\n",
    "        return 30 \n",
    "numberOfDaysMonth(4,2019)\n",
    "\n",
    "def daysInStartYear(startmonth,startyear):\n",
    "    days=0\n",
    "    for month in range(startmonth,13):\n",
    "        days=days+numberOfDaysMonth(month,startyear)\n",
    "    return days \n",
    "daysInStartYear(2,2016)\n",
    "\n",
    "def daysInEndYear(endmonth,endyear):\n",
    "    days=0 \n",
    "    for month in range(1, endmonth+1):\n",
    "        days+=numberOfDaysMonth(month,endyear)\n",
    "    return days \n",
    "daysInEndYear(6,2019)\n",
    "\n",
    "noOfHours(2017,2018)\n",
    "s1=0 \n",
    "s2=0\n",
    "s1=s1+daysInStartYear(2,2016)\n",
    "s2=s2+daysInEndYear(6,2019)\n",
    "s3=(s1+s2)*24 \n",
    "noOfHours(2017,2018)+s3\n"
   ]
  },
  {
   "cell_type": "code",
   "execution_count": null,
   "metadata": {},
   "outputs": [],
   "source": []
  },
  {
   "cell_type": "code",
   "execution_count": null,
   "metadata": {},
   "outputs": [],
   "source": []
  }
 ],
 "metadata": {
  "kernelspec": {
   "display_name": "Python 3",
   "language": "python",
   "name": "python3"
  },
  "language_info": {
   "codemirror_mode": {
    "name": "ipython",
    "version": 3
   },
   "file_extension": ".py",
   "mimetype": "text/x-python",
   "name": "python",
   "nbconvert_exporter": "python",
   "pygments_lexer": "ipython3",
   "version": "3.7.3"
  }
 },
 "nbformat": 4,
 "nbformat_minor": 2
}
