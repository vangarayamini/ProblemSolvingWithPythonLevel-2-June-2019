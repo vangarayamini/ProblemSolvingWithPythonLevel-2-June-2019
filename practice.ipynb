{
 "cells": [
  {
   "cell_type": "code",
   "execution_count": 2,
   "metadata": {},
   "outputs": [
    {
     "name": "stdout",
     "output_type": "stream",
     "text": [
      "Hi Welcome to demo file.txt \n",
      "This is for testing purpose\n",
      "Good Luck!\n"
     ]
    }
   ],
   "source": [
    "f=\"DataFiles/demo file.txt\"\n",
    "f1=open(f,'r')\n",
    "print(f1.read())"
   ]
  },
  {
   "cell_type": "code",
   "execution_count": 3,
   "metadata": {},
   "outputs": [
    {
     "name": "stdout",
     "output_type": "stream",
     "text": [
      "Hi We\n"
     ]
    }
   ],
   "source": [
    "f1=open(f,'r')\n",
    "print(f1.read(5))"
   ]
  },
  {
   "cell_type": "code",
   "execution_count": 5,
   "metadata": {},
   "outputs": [
    {
     "name": "stdout",
     "output_type": "stream",
     "text": [
      "Hi Welcome to demo file.txt \n",
      "\n"
     ]
    }
   ],
   "source": [
    "f1=open(f,'r')\n",
    "print(f1.readline())"
   ]
  },
  {
   "cell_type": "code",
   "execution_count": 10,
   "metadata": {},
   "outputs": [
    {
     "name": "stdout",
     "output_type": "stream",
     "text": [
      "['Hi Welcome to demo file.txt \\n', 'This is for testing purpose\\n', 'Good Luck!'] "
     ]
    }
   ],
   "source": [
    "f1=open(f,'r')\n",
    "print(f1.readlines())"
   ]
  },
  {
   "cell_type": "code",
   "execution_count": 12,
   "metadata": {},
   "outputs": [
    {
     "name": "stdout",
     "output_type": "stream",
     "text": [
      "Hi Welcome to demo file.txt \n",
      "This is for testing purpose\n",
      "Good Luck!"
     ]
    }
   ],
   "source": [
    "f1=open(f,'r')\n",
    "for i in f1.readlines():\n",
    "    print(i,end='')"
   ]
  },
  {
   "cell_type": "code",
   "execution_count": 23,
   "metadata": {},
   "outputs": [
    {
     "name": "stdout",
     "output_type": "stream",
     "text": [
      "Hi Welcome to demo file.txt \n",
      "This is for testing purpose\n",
      "Good Luck!\n"
     ]
    }
   ],
   "source": [
    "f=\"DataFiles/demo file.txt\"\n",
    "with open(f,'r') as f2:\n",
    "    print(f2.read())\n"
   ]
  },
  {
   "cell_type": "code",
   "execution_count": 24,
   "metadata": {},
   "outputs": [
    {
     "name": "stdout",
     "output_type": "stream",
     "text": [
      "['Hi Welcome to demo file.txt \\n', 'This is for testing purpose\\n', 'Good Luck!']\n"
     ]
    }
   ],
   "source": [
    "f=\"DataFiles/demo file.txt\"\n",
    "with open(f,'r') as f2:\n",
    "    print(f2.readlines())"
   ]
  },
  {
   "cell_type": "code",
   "execution_count": 27,
   "metadata": {},
   "outputs": [
    {
     "name": "stdout",
     "output_type": "stream",
     "text": [
      "Hi Welcome to demo file.txt \n",
      " This is for testing purpose\n",
      " Good Luck! "
     ]
    }
   ],
   "source": [
    "f=\"DataFiles/demo file.txt\"\n",
    "with open(f,'r') as f2:\n",
    "    for i in f2.readlines():\n",
    "        print(i,end=\" \")"
   ]
  },
  {
   "cell_type": "code",
   "execution_count": null,
   "metadata": {},
   "outputs": [],
   "source": []
  },
  {
   "cell_type": "code",
   "execution_count": null,
   "metadata": {},
   "outputs": [],
   "source": []
  },
  {
   "cell_type": "code",
   "execution_count": null,
   "metadata": {},
   "outputs": [],
   "source": []
  },
  {
   "cell_type": "code",
   "execution_count": null,
   "metadata": {},
   "outputs": [],
   "source": []
  }
 ],
 "metadata": {
  "kernelspec": {
   "display_name": "Python 3",
   "language": "python",
   "name": "python3"
  },
  "language_info": {
   "codemirror_mode": {
    "name": "ipython",
    "version": 3
   },
   "file_extension": ".py",
   "mimetype": "text/x-python",
   "name": "python",
   "nbconvert_exporter": "python",
   "pygments_lexer": "ipython3",
   "version": "3.7.3"
  }
 },
 "nbformat": 4,
 "nbformat_minor": 2
}
