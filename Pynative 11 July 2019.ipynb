{
 "cells": [
  {
   "cell_type": "code",
   "execution_count": 1,
   "metadata": {},
   "outputs": [
    {
     "name": "stdout",
     "output_type": "stream",
     "text": [
      "10\n",
      "1000\n",
      "1010\n"
     ]
    }
   ],
   "source": [
    "##Question 1:\n",
    "##Accept two int values from user and return their product. \n",
    "##If the product is greater than 1000, then return their sum\n",
    "\n",
    "n=int(input())\n",
    "n1=int(input())\n",
    "m=n*n1\n",
    "if m>1000:\n",
    "    print(n+n1)"
   ]
  },
  {
   "cell_type": "code",
   "execution_count": null,
   "metadata": {},
   "outputs": [],
   "source": [
    "##Question 2: \n",
    "##Given a range of numbers. \n",
    "##Iterate from o^th number to the end number and print the sum of the current number and previous number"
   ]
  },
  {
   "cell_type": "code",
   "execution_count": 11,
   "metadata": {},
   "outputs": [
    {
     "name": "stdout",
     "output_type": "stream",
     "text": [
      "2 4 6 8\n",
      "4\n",
      "8\n",
      "12\n",
      "16\n"
     ]
    }
   ],
   "source": [
    "n=list(map(int,input().split()))\n",
    "for i in range(0,len(n),1):\n",
    "    sum=n[i]\n",
    "    sum=sum+n[i]\n",
    "    print(sum)"
   ]
  },
  {
   "cell_type": "code",
   "execution_count": 1,
   "metadata": {},
   "outputs": [
    {
     "name": "stdout",
     "output_type": "stream",
     "text": [
      "yamini\n",
      "aii\n"
     ]
    }
   ],
   "source": [
    "##Question 3:\n",
    "##Accept string from the user and display only those characters which are present at an even index\n",
    "\n",
    "\n",
    "n=input()\n",
    "print(n[1:len(n):2])"
   ]
  },
  {
   "cell_type": "code",
   "execution_count": 4,
   "metadata": {},
   "outputs": [
    {
     "name": "stdout",
     "output_type": "stream",
     "text": [
      "yamini\n",
      "3\n",
      "yam\n"
     ]
    }
   ],
   "source": [
    "##Question 4: \n",
    "##Given a string and an int n, remove characters from string starting from zero upto n and return a new string\n",
    "n=input()\n",
    "n1=int(input())\n",
    "s=n[0:n1]\n",
    "print(s)"
   ]
  },
  {
   "cell_type": "code",
   "execution_count": 6,
   "metadata": {},
   "outputs": [
    {
     "name": "stdout",
     "output_type": "stream",
     "text": [
      "1 2 3 4\n",
      "False\n"
     ]
    }
   ],
   "source": [
    "##Question 5: Given a list of ints, return True if first and last number of a list is same\n",
    "n=list(map(int,input().split()))\n",
    "if n[0]==n[-1]:\n",
    "    print(\"True\")\n",
    "else:\n",
    "    print(\"False\")"
   ]
  },
  {
   "cell_type": "code",
   "execution_count": 7,
   "metadata": {},
   "outputs": [
    {
     "name": "stdout",
     "output_type": "stream",
     "text": [
      "1 2 3  4 5 10\n",
      "5\n",
      "10\n"
     ]
    }
   ],
   "source": [
    "##Question 6: Given a list of numbers, Iterate it and print only those numbers which are divisible of 5\n",
    "n=list(map(int,input().split()))\n",
    "for i in range(0,len(n),1):\n",
    "    if n[i]%5==0:\n",
    "        print(n[i])\n"
   ]
  },
  {
   "cell_type": "code",
   "execution_count": 31,
   "metadata": {},
   "outputs": [
    {
     "name": "stdout",
     "output_type": "stream",
     "text": [
      "1 \n",
      "\n",
      "2 2 \n",
      "\n",
      "3 3 3 \n",
      "\n",
      "4 4 4 4 \n",
      "\n",
      "5 5 5 5 5 \n",
      "\n"
     ]
    }
   ],
   "source": [
    "# 1 \n",
    "# 2 2 \n",
    "# 3 3 3 \n",
    "# 4 4 4 4 \n",
    "# 5 5 5 5 5\n",
    "\n",
    "# print the following pattern\n",
    "\n",
    "for i in range(1,6):\n",
    "    for j in range(i):\n",
    "        print(i,end=\" \")\n",
    "    print(\"\\n\")"
   ]
  },
  {
   "cell_type": "code",
   "execution_count": 27,
   "metadata": {},
   "outputs": [
    {
     "name": "stdout",
     "output_type": "stream",
     "text": [
      "\n",
      "\n",
      "1 \n",
      "\n",
      "2 2 \n",
      "\n",
      "3 3 3 \n",
      "\n",
      "4 4 4 4 \n",
      "\n",
      "5 5 5 5 5 \n",
      "\n",
      "6 6 6 6 6 6 \n",
      "\n",
      "7 7 7 7 7 7 7 \n",
      "\n",
      "8 8 8 8 8 8 8 8 \n",
      "\n",
      "9 9 9 9 9 9 9 9 9 \n",
      "\n"
     ]
    }
   ],
   "source": [
    "for num in range(10):\n",
    "    for i in range(num):\n",
    "        print (num, end=\" \") #print number\n",
    "    # new line after each row to display pattern correctly\n",
    "    print(\"\\n\")"
   ]
  },
  {
   "cell_type": "code",
   "execution_count": 35,
   "metadata": {},
   "outputs": [
    {
     "name": "stdout",
     "output_type": "stream",
     "text": [
      "1 2 3 4\n",
      "9 8 7 6\n",
      "[1, 3, 8, 6]\n"
     ]
    }
   ],
   "source": [
    "#Question 10: \n",
    "#Given a two list of ints create a third list such that should contain only odd numbers from the first list and even numbers from the second list\n",
    "\n",
    "\n",
    "n1=list(map(int,input().split()))\n",
    "n2=list(map(int,input().split()))\n",
    "n3=[]\n",
    "for i in range(0,len(n1),1):\n",
    "    if n1[i]%2!=0:\n",
    "        n3.append(n1[i])\n",
    "for i in range(0,len(n2),1):\n",
    "    if n2[i]%2==0:\n",
    "        n3.append(n2[i])\n",
    "print(n3)\n"
   ]
  },
  {
   "cell_type": "code",
   "execution_count": 39,
   "metadata": {},
   "outputs": [
    {
     "name": "stdout",
     "output_type": "stream",
     "text": [
      "121\n",
      "True\n"
     ]
    }
   ],
   "source": [
    "#Question 9: Reverse a given number and return true if it is the same as the original number\n",
    "n=input()\n",
    "m=n[::-1]\n",
    "if n==m:\n",
    "    print(\"True\")\n",
    "else:\n",
    "    print(\"False\")"
   ]
  },
  {
   "cell_type": "code",
   "execution_count": 41,
   "metadata": {},
   "outputs": [
    {
     "name": "stdout",
     "output_type": "stream",
     "text": [
      "this is is yamini nalini\n",
      "is\n",
      "['this', 'is', 'is', 'yamini', 'nalini']\n",
      "2\n"
     ]
    }
   ],
   "source": [
    "s=list(map(str,input().split(' ')))\n",
    "sub=input()\n",
    "print(s)\n",
    "count=0\n",
    "for i in range(0,len(s),1):\n",
    "    if s[i]==\"is\":\n",
    "        count+=1\n",
    "print(count)"
   ]
  },
  {
   "cell_type": "code",
   "execution_count": 44,
   "metadata": {},
   "outputs": [
    {
     "name": "stdout",
     "output_type": "stream",
     "text": [
      "yaminiii\n",
      "mini\n"
     ]
    }
   ],
   "source": [
    "#Exercise Question 1: \n",
    "#Given a string of odd length greater 7, return a string made of the middle three chars of a given String\n",
    "\n",
    "n=input()\n",
    "if len(n)>7:\n",
    "    print(n[:len(n)-2])\n",
    "else:\n",
    "    print(\"give another string\")"
   ]
  },
  {
   "cell_type": "code",
   "execution_count": null,
   "metadata": {},
   "outputs": [],
   "source": []
  },
  {
   "cell_type": "code",
   "execution_count": null,
   "metadata": {},
   "outputs": [],
   "source": []
  },
  {
   "cell_type": "code",
   "execution_count": null,
   "metadata": {},
   "outputs": [],
   "source": []
  },
  {
   "cell_type": "code",
   "execution_count": null,
   "metadata": {},
   "outputs": [],
   "source": []
  }
 ],
 "metadata": {
  "kernelspec": {
   "display_name": "Python 3",
   "language": "python",
   "name": "python3"
  },
  "language_info": {
   "codemirror_mode": {
    "name": "ipython",
    "version": 3
   },
   "file_extension": ".py",
   "mimetype": "text/x-python",
   "name": "python",
   "nbconvert_exporter": "python",
   "pygments_lexer": "ipython3",
   "version": "3.7.3"
  }
 },
 "nbformat": 4,
 "nbformat_minor": 2
}
