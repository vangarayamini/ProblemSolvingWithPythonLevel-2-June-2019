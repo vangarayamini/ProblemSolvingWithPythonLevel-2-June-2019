{
 "cells": [
  {
   "cell_type": "markdown",
   "metadata": {},
   "source": [
    "## Python  Data Structures\n",
    "\n",
    "# List\n",
    "\n",
    "### Python Data Structures\n",
    "\n",
    "- lists\n",
    "- tuple\n",
    "- Dictionary\n",
    "- Basic Problem set on Data Structures\n",
    "- Advanced Problem Set\n",
    "- Packages and Modules in python"
   ]
  },
  {
   "cell_type": "code",
   "execution_count": 1,
   "metadata": {},
   "outputs": [
    {
     "data": {
      "text/plain": [
       "[123, 234, 456, 344, 455, 566]"
      ]
     },
     "execution_count": 1,
     "metadata": {},
     "output_type": "execute_result"
    }
   ],
   "source": [
    "li=[123,978,654]\n",
    "li #Accessing the list\n",
    "\n",
    "li[1] # Acessing the second element with index in the list\n",
    "\n",
    "li[1:] # Acessing all elements from second to last element in the list\n",
    "\n",
    "li[::-1] # Accessing the list in reverse order\n",
    "\n",
    "li\n",
    "\n",
    "li[::2] # Accessing all even index elements\n",
    "\n",
    "li[1::2] # Accessing all odd index elements\n",
    "\n",
    "# lists can be access and manipulate in two different ways\n",
    "\n",
    "#1.DIRECT REFERENCING\n",
    "#2.INDIRECT REFERENCING\n",
    "\n",
    "# Adding an element to the end of the list\n",
    "\n",
    "li.append(345)\n",
    "\n",
    "li\n",
    "\n",
    "# adding an element in a particular position\n",
    "li.insert(1,234)\n",
    "\n",
    "# Sort elements in ascending order\n",
    "\n",
    "li.sort()\n",
    "\n",
    "# remove last elements in a list\n",
    "\n",
    "li.pop()\n",
    "\n",
    "# remove an element at a particular index\n",
    "\n",
    "li.pop(1)\n",
    "\n",
    "list1=[123,234,456] # list1\n",
    "list2=[344,455,566] # list2\n",
    "list1.extend(list2) # merge list2 into list 1\n",
    "\n",
    "list1\n"
   ]
  },
  {
   "cell_type": "code",
   "execution_count": null,
   "metadata": {},
   "outputs": [],
   "source": []
  },
  {
   "cell_type": "code",
   "execution_count": 2,
   "metadata": {},
   "outputs": [
    {
     "data": {
      "text/plain": [
       "363.0"
      ]
     },
     "execution_count": 2,
     "metadata": {},
     "output_type": "execute_result"
    }
   ],
   "source": [
    "# Average of elements in a given list\n",
    "\n",
    "list1\n",
    "sum(list1)\n",
    "\n",
    "len(list1)\n",
    "\n",
    "sum(list1)/len(list1)"
   ]
  },
  {
   "cell_type": "code",
   "execution_count": null,
   "metadata": {},
   "outputs": [],
   "source": []
  },
  {
   "cell_type": "code",
   "execution_count": 3,
   "metadata": {},
   "outputs": [
    {
     "data": {
      "text/plain": [
       "344.6666666666667"
      ]
     },
     "execution_count": 3,
     "metadata": {},
     "output_type": "execute_result"
    }
   ],
   "source": [
    "# Average of all alternate elements\n",
    "\n",
    "sum(list1[::2])/len(list1[::2])"
   ]
  },
  {
   "cell_type": "code",
   "execution_count": null,
   "metadata": {},
   "outputs": [],
   "source": []
  },
  {
   "cell_type": "code",
   "execution_count": 4,
   "metadata": {},
   "outputs": [
    {
     "data": {
      "text/plain": [
       "4"
      ]
     },
     "execution_count": 4,
     "metadata": {},
     "output_type": "execute_result"
    }
   ],
   "source": [
    "# function to identify the second largest element in a list\n",
    "\n",
    "# solutions for this problem\n",
    "\n",
    "#1. sort the data and select the second largest\n",
    "# 2.sort the data in reverse order,and select the second largest\n",
    "\n",
    "#3. remove the max element and then get the second max element\n",
    "\n",
    "list1=[10,20,4,45,99]\n",
    "\n",
    "def secondLargest(list1):\n",
    "    list1.sort()\n",
    "    return list1[-2]\n",
    "\n",
    "def genericLargest(list1,n):\n",
    "    list1.sort()\n",
    "    return list1[-n]\n",
    "\n",
    "secondLargest(list1)\n",
    "genericLargest(list1,5)"
   ]
  },
  {
   "cell_type": "code",
   "execution_count": null,
   "metadata": {},
   "outputs": [],
   "source": []
  },
  {
   "cell_type": "code",
   "execution_count": 7,
   "metadata": {},
   "outputs": [
    {
     "data": {
      "text/plain": [
       "2"
      ]
     },
     "execution_count": 7,
     "metadata": {},
     "output_type": "execute_result"
    }
   ],
   "source": [
    "# function to search for data in list\n",
    "\n",
    "# search for the key in the list and return the index\n",
    "\n",
    "list1=[1,3,4,5,7]\n",
    "def linearSearch(list1,key):\n",
    "    for index in range(0,len(list1)):    # first solution\n",
    "        if list1[index]==key:\n",
    "            return index\n",
    "    return -1\n",
    "\n",
    "def linearSearch2(list1,key):\n",
    "    for element in list1:\n",
    "        if element==key:\n",
    "            return list1.index(element)  # second solution\n",
    "    return -1\n",
    "linearSearch(list1,7)\n",
    "linearSearch2(list1,4)\n",
    "\n",
    "def linearSearch3(list1,key):\n",
    "    if key in list1:\n",
    "        return list1.index(key)    # third solution\n",
    "    return -1\n",
    "linearSearch3(list1,4)\n",
    "\n"
   ]
  },
  {
   "cell_type": "code",
   "execution_count": null,
   "metadata": {},
   "outputs": [],
   "source": []
  },
  {
   "cell_type": "code",
   "execution_count": 9,
   "metadata": {},
   "outputs": [
    {
     "data": {
      "text/plain": [
       "2"
      ]
     },
     "execution_count": 9,
     "metadata": {},
     "output_type": "execute_result"
    }
   ],
   "source": [
    "# function to count  the occurences of a character in a string\n",
    "\n",
    "# python programming ,m->2\n",
    "\n",
    "def countOccurences(string,substring):\n",
    "    count=0\n",
    "    for ch in string:\n",
    "        if ch==substring:\n",
    "            count=count+1\n",
    "    return count\n",
    "\n",
    "def countCharOccurences2(string,substring):\n",
    "    return string.count(substring)\n",
    "countCharOccurences2(\"python programming\",\"o\")"
   ]
  },
  {
   "cell_type": "code",
   "execution_count": null,
   "metadata": {},
   "outputs": [],
   "source": []
  },
  {
   "cell_type": "code",
   "execution_count": 10,
   "metadata": {},
   "outputs": [
    {
     "data": {
      "text/plain": [
       "3"
      ]
     },
     "execution_count": 10,
     "metadata": {},
     "output_type": "execute_result"
    }
   ],
   "source": [
    "# function to find the number of occurences\n",
    "\n",
    "# \"abcabcddcba\",\"ab\"->2\n",
    "\n",
    "def countCharOccurences2(string,substring):\n",
    "    return string.count(substring)\n",
    "countCharOccurences2(\"abcabcddbca\",\"a\")"
   ]
  },
  {
   "cell_type": "code",
   "execution_count": null,
   "metadata": {},
   "outputs": [],
   "source": []
  },
  {
   "cell_type": "code",
   "execution_count": 11,
   "metadata": {},
   "outputs": [
    {
     "data": {
      "text/plain": [
       "2"
      ]
     },
     "execution_count": 11,
     "metadata": {},
     "output_type": "execute_result"
    }
   ],
   "source": [
    "# function to find the number of Occurences\n",
    "\n",
    "# \"abcabcddcba\",\"ab\"->2\n",
    "\n",
    "def countOccurences(string,substring):\n",
    "    count=0\n",
    "    for ch in string:\n",
    "        if ch==substring:\n",
    "            count=count+1\n",
    "    return count\n",
    "\n",
    "def countCharOccurences2(string,substring):\n",
    "    return string.count(substring)\n",
    "countCharOccurences2(\"abcabcddcba\",\"ab\")"
   ]
  },
  {
   "cell_type": "code",
   "execution_count": null,
   "metadata": {},
   "outputs": [],
   "source": []
  },
  {
   "cell_type": "code",
   "execution_count": 12,
   "metadata": {},
   "outputs": [
    {
     "data": {
      "text/plain": [
       "1"
      ]
     },
     "execution_count": 12,
     "metadata": {},
     "output_type": "execute_result"
    }
   ],
   "source": [
    "def occuranceofsubstring(string,substring):\n",
    "    count=0\n",
    "    for ch in string:\n",
    "        if ch==substring:\n",
    "            count=count+1\n",
    "            return count\n",
    "\n",
    "def occuranceofsubstring2(string,substring):\n",
    "    return int(string.count(substring)/2)\n",
    "occuranceofsubstring2(\"abcabcddcba\",\"ab\")"
   ]
  },
  {
   "cell_type": "markdown",
   "metadata": {},
   "source": [
    "## Problem closest to zero\n",
    "\n",
    "## Sample test\n",
    "\n"
   ]
  },
  {
   "cell_type": "code",
   "execution_count": 18,
   "metadata": {},
   "outputs": [
    {
     "name": "stdout",
     "output_type": "stream",
     "text": [
      "-1\n"
     ]
    }
   ],
   "source": [
    "li=[-1,-2,2,3]\n",
    "li.sort()\n",
    "\n",
    "p1=[]\n",
    "\n",
    "for i in li:\n",
    "    \n",
    "    p1.append(abs(i))\n",
    "p1.sort()\n",
    "\n",
    "if p1[0] in li:\n",
    "    print(p1[0])\n",
    "else:\n",
    "    print(-p1[0])"
   ]
  },
  {
   "cell_type": "code",
   "execution_count": null,
   "metadata": {},
   "outputs": [],
   "source": []
  },
  {
   "cell_type": "code",
   "execution_count": 19,
   "metadata": {},
   "outputs": [
    {
     "data": {
      "text/plain": [
       "-1"
      ]
     },
     "execution_count": 19,
     "metadata": {},
     "output_type": "execute_result"
    }
   ],
   "source": [
    "# you are given three numbers a,b,c \n",
    "write a function\n",
    "\n",
    "\n",
    "\n",
    "\n",
    "def cal(a,b,c):\n",
    "        for i in range(c,a-1,-1):\n",
    "            if i%a==b:\n",
    "                return i\n",
    "        return -1\n",
    "cal(1,2,4)"
   ]
  },
  {
   "cell_type": "code",
   "execution_count": null,
   "metadata": {},
   "outputs": [],
   "source": []
  }
 ],
 "metadata": {
  "kernelspec": {
   "display_name": "Python 3",
   "language": "python",
   "name": "python3"
  },
  "language_info": {
   "codemirror_mode": {
    "name": "ipython",
    "version": 3
   },
   "file_extension": ".py",
   "mimetype": "text/x-python",
   "name": "python",
   "nbconvert_exporter": "python",
   "pygments_lexer": "ipython3",
   "version": "3.7.3"
  }
 },
 "nbformat": 4,
 "nbformat_minor": 2
}
