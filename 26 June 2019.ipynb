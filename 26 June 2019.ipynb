{
 "cells": [
  {
   "cell_type": "code",
   "execution_count": 5,
   "metadata": {},
   "outputs": [
    {
     "name": "stdout",
     "output_type": "stream",
     "text": [
      "Enter how many student marks u want to generate 10\n"
     ]
    },
    {
     "ename": "ValueError",
     "evalue": "invalid literal for int() with base 10: ''",
     "output_type": "error",
     "traceback": [
      "\u001b[1;31m---------------------------------------------------------------------------\u001b[0m",
      "\u001b[1;31mValueError\u001b[0m                                Traceback (most recent call last)",
      "\u001b[1;32m<ipython-input-5-53953e83410d>\u001b[0m in \u001b[0;36m<module>\u001b[1;34m\u001b[0m\n\u001b[0;32m     59\u001b[0m     \u001b[0mmarks\u001b[0m\u001b[1;33m=\u001b[0m\u001b[1;33m[\u001b[0m\u001b[1;33m]\u001b[0m\u001b[1;33m\u001b[0m\u001b[1;33m\u001b[0m\u001b[0m\n\u001b[0;32m     60\u001b[0m     \u001b[1;32mfor\u001b[0m \u001b[0mi\u001b[0m \u001b[1;32min\u001b[0m \u001b[0mrange\u001b[0m\u001b[1;33m(\u001b[0m\u001b[1;36m0\u001b[0m\u001b[1;33m,\u001b[0m\u001b[0mlen\u001b[0m\u001b[1;33m(\u001b[0m\u001b[0mm\u001b[0m\u001b[1;33m)\u001b[0m\u001b[1;33m,\u001b[0m\u001b[1;36m1\u001b[0m\u001b[1;33m)\u001b[0m\u001b[1;33m:\u001b[0m\u001b[1;33m\u001b[0m\u001b[1;33m\u001b[0m\u001b[0m\n\u001b[1;32m---> 61\u001b[1;33m         \u001b[0mmarks\u001b[0m\u001b[1;33m=\u001b[0m\u001b[0mmarks\u001b[0m\u001b[1;33m+\u001b[0m\u001b[1;33m[\u001b[0m\u001b[0mint\u001b[0m\u001b[1;33m(\u001b[0m\u001b[0mm\u001b[0m\u001b[1;33m[\u001b[0m\u001b[0mi\u001b[0m\u001b[1;33m]\u001b[0m\u001b[1;33m)\u001b[0m\u001b[1;33m]\u001b[0m\u001b[1;33m\u001b[0m\u001b[1;33m\u001b[0m\u001b[0m\n\u001b[0m\u001b[0;32m     62\u001b[0m \u001b[0mc\u001b[0m\u001b[1;33m=\u001b[0m\u001b[1;36m1\u001b[0m\u001b[1;33m\u001b[0m\u001b[1;33m\u001b[0m\u001b[0m\n\u001b[0;32m     63\u001b[0m \u001b[1;32mwhile\u001b[0m \u001b[0mc\u001b[0m\u001b[1;33m==\u001b[0m\u001b[1;36m1\u001b[0m\u001b[1;33m:\u001b[0m\u001b[1;33m\u001b[0m\u001b[1;33m\u001b[0m\u001b[0m\n",
      "\u001b[1;31mValueError\u001b[0m: invalid literal for int() with base 10: ''"
     ]
    }
   ],
   "source": [
    "from random import randint\n",
    "def generatemarks(n,lb,ub):\n",
    "    for i in range(0,n,1):\n",
    "        r=randint(lb,ub)\n",
    "        f.write(r.__str__()+\" \")\n",
    "def average_percentage(marks):\n",
    "    count=0\n",
    "    for i in range(0,len(marks),1):\n",
    "        count+=marks[i]\n",
    "    print(\"Average percentage is \",(count//len(marks)))\n",
    "\n",
    "def passed_percentage(filename,marks):\n",
    "    count=0\n",
    "    Passmarks=int(input(\"Enter pass marks  \"))\n",
    "    for i in range(0,len(marks),1):\n",
    "        if marks[i]>=Passmarks:\n",
    "            count+=1\n",
    "    print(\"Pass percentage is \",int((count/n)*100),\"%\")\n",
    "    \n",
    "def failed_percentage(filename,marks):\n",
    "    count=0\n",
    "    Passmarks=int(input(\"Enter pass marks  \"))\n",
    "    for i in range(0,len(marks),1):\n",
    "        if marks[i]<Passmarks:\n",
    "            count+=1\n",
    "    print(\"fail percentage is \",int((count/n)*100),\"%\")\n",
    "def distinction(filename,marks):\n",
    "    count=0\n",
    "    dist=int(input(\"Enter distinction marks lower bound  \"))\n",
    "    for i in range(0,len(marks),1):\n",
    "        if marks[i]>=dist:\n",
    "            count+=1\n",
    "    print(\"distinction percentage is \",int((count/n)*100),\"%\")\n",
    "    \n",
    "def high_mark(marks):\n",
    "    high=max(marks)\n",
    "    count=0\n",
    "    for i in range(0,len(marks),1):\n",
    "        if marks[i]==high:\n",
    "            count+=1\n",
    "    print(\"Highest marks is \",high,\" number of persons got high\",count)\n",
    "def low_mark(marks):\n",
    "    m=min(marks)\n",
    "    count=0\n",
    "    for i in range(0,len(marks),1):\n",
    "        if marks[i]==m:\n",
    "            count+=1\n",
    "    print(\"Lowest marks is \",m,\" number of persons got low marks\",count)\n",
    "    \n",
    "\n",
    "filename=\"DataFiles/marks.txt\"\n",
    "n=int(input(\"Enter how many student marks u want to generate \"))\n",
    "with open(filename,'r+') as f:\n",
    "    generatemarks(n,0,100)\n",
    "    \n",
    "with open(filename,'r') as f:\n",
    "    data=f.read()\n",
    "    m=data.split(\" \")\n",
    "    marks=[]\n",
    "    for i in range(0,len(m),1):\n",
    "        marks=marks+[int(m[i])]\n",
    "c=1\n",
    "while c==1:\n",
    "    print(\"\\n1.List of marks\\n2.Pass percentage\\n3.Failed percentage\\n4.Distinction percentage\\n5.High marks\\n6.Low mark\\n7.Average percentage\\n\")\n",
    "    value=int(input())\n",
    "    if value==1:\n",
    "        for i in range(0,len(marks),1):\n",
    "            print(marks[i],end=\" \")\n",
    "        \n",
    "    elif value==2:\n",
    "        passed_percentage(filename,marks)\n",
    "    elif value==3:\n",
    "        failed_percentage(filename,marks)\n",
    "    elif value==4:\n",
    "        distinction(filename,marks)\n",
    "    elif value==5:\n",
    "        high_mark(marks)\n",
    "    elif value==6:\n",
    "        low_mark(marks)\n",
    "    elif value==7:\n",
    "        average_percentage(marks)\n",
    "    else:\n",
    "        print(\"\\nWrong input.Please enter correct input\\n\")\n",
    "\n",
    "    print(\"\\nEnter 1 to continue\\nEnter 0 to exit\\n\")\n",
    "    c=int(input())"
   ]
  },
  {
   "cell_type": "code",
   "execution_count": null,
   "metadata": {},
   "outputs": [],
   "source": []
  },
  {
   "cell_type": "code",
   "execution_count": null,
   "metadata": {},
   "outputs": [],
   "source": [
    "from random import randint\n",
    "def generatemarks(n,lb,ub):\n",
    "    for i in range(0,n,1):\n",
    "    r=randint(lb,ub)\n",
    "    f.write(r._str_()+\" \")"
   ]
  },
  {
   "cell_type": "code",
   "execution_count": null,
   "metadata": {},
   "outputs": [],
   "source": []
  },
  {
   "cell_type": "code",
   "execution_count": null,
   "metadata": {},
   "outputs": [],
   "source": [
    "# K-Largest Frequency \n",
    "\n",
    "# you are given a string\n",
    "\n",
    "# The first line consists of a single integer,\n",
    "# denoting the number of test cases.The first "
   ]
  },
  {
   "cell_type": "code",
   "execution_count": null,
   "metadata": {},
   "outputs": [],
   "source": [
    "# Largest number in a list\n",
    "# second Largest number in a list\n",
    "# Kth largest number in a list\n",
    "\n",
    "# Element with highest frequency\n",
    "# second Highest frequency\n",
    "# Kth Highest frequency\n",
    "\n",
    "\n",
    "# {a:4,g:9,i:6,p:213,c:6}\n",
    "# [4,6,6,9,213]\n",
    "# [213,10,9,6,6,4]\n",
    "# [a,c,g,i,p]\n",
    "# k=5\n",
    "# li=[]\n"
   ]
  },
  {
   "cell_type": "code",
   "execution_count": null,
   "metadata": {},
   "outputs": [],
   "source": [
    "with open('../Desktop/input.txt') as f:\n",
    "    t=int(f.readline())\n",
    "    for i in range(t):\n",
    "        s=f.readline()\n",
    "        k=int(f.readline())\n",
    "        print(kLargestFrequency(s,k))"
   ]
  },
  {
   "cell_type": "code",
   "execution_count": 32,
   "metadata": {},
   "outputs": [
    {
     "name": "stdout",
     "output_type": "stream",
     "text": [
      "1\n"
     ]
    },
    {
     "data": {
      "text/plain": [
       "6"
      ]
     },
     "execution_count": 32,
     "metadata": {},
     "output_type": "execute_result"
    }
   ],
   "source": [
    "# Function to find the second largest number\n",
    "\n",
    "def secondLargest(li):\n",
    "    # convert the list in to a unique list\n",
    "    # O(n)\n",
    "    k=int(input())\n",
    "    unique=[]\n",
    "    for n in li:\n",
    "        if n not in unique:\n",
    "            unique.append(n)\n",
    "    unique=sorted(unique,reverse=True)\n",
    "    if len(unique)>1:\n",
    "        return unique[k]\n",
    "    \n",
    "secondLargest([1,1,2,2,3,4,5,6,6,7,7])\n",
    "    \n",
    "# def fifthLeast(li)\n",
    "\n",
    "# def kLargest(li,k)\n",
    "\n",
    "# def kSmallest(li,k)\n"
   ]
  },
  {
   "cell_type": "code",
   "execution_count": 12,
   "metadata": {},
   "outputs": [
    {
     "data": {
      "text/plain": [
       "2"
      ]
     },
     "execution_count": 12,
     "metadata": {},
     "output_type": "execute_result"
    }
   ],
   "source": [
    "def kSmallest(li,k):\n",
    "    # convert the list in to a unique list\n",
    "    # O(n)\n",
    "    unique=[]\n",
    "    for i in li:\n",
    "        if i not in unique:\n",
    "            unique.append(i)\n",
    "    unique=sorted(unique)\n",
    "    if len(unique)>=k:\n",
    "        return unique[k-1]\n",
    "    return -1\n",
    "#k=int(input())\n",
    "kSmallest([1,1,2],2)"
   ]
  },
  {
   "cell_type": "code",
   "execution_count": null,
   "metadata": {},
   "outputs": [],
   "source": []
  },
  {
   "cell_type": "code",
   "execution_count": 28,
   "metadata": {},
   "outputs": [
    {
     "data": {
      "text/plain": [
       "1"
      ]
     },
     "execution_count": 28,
     "metadata": {},
     "output_type": "execute_result"
    }
   ],
   "source": [
    "# Function to identify the element with highest frequency in a list\n",
    "# If many elements have the highest frequency,return the smallest\n",
    "# highest frequency ([1,2,3,9,8,7,3,4,2,1])  -> \n",
    "\n",
    "\n",
    "def highestFrequencyElement(li):\n",
    "    # Extracting the unique elements with frequencies\n",
    "    u={}\n",
    "    for i in li:\n",
    "        if i not in u:\n",
    "            u[i]=1\n",
    "        else:\n",
    "            u[i]+=1 \n",
    "    # u = {1:2,2:2,3:2,9:1,8:1,7:1,4:1}\n",
    "    # Getting all frequencies in to a list\n",
    "    \n",
    "    freq=u.values()\n",
    "    \n",
    "    # Extract all keys with maxfreq in a list\n",
    "    \n",
    "    maxfreq=max(freq)\n",
    "    maxfreqE=[]\n",
    "    \n",
    "    # Identify the smallest number with maximum frequency\n",
    "    for item in u.items():\n",
    "        \n",
    "        # item->(key,value)\n",
    "        # item[0] -> all keys\n",
    "        # item[1] -> all values\n",
    "        \n",
    "        if item[1]==maxfreq:\n",
    "            maxfreqE.append(item[0])\n",
    "    # select the minimum from the keys with maximum frequency\n",
    "    #return min(maxfreqE)  # minfreqE[k-1]\n",
    "    #return max(maxfreqE)\n",
    "    maxfreqE=sorted(maxfreqE,reverse=True)\n",
    "    return maxfreqE[3-1]\n",
    "    \n",
    "highestFrequencyElement([1,2,3,2,1,4,4,9])      \n",
    "    \n",
    "    "
   ]
  },
  {
   "cell_type": "code",
   "execution_count": 52,
   "metadata": {},
   "outputs": [
    {
     "data": {
      "text/plain": [
       "2"
      ]
     },
     "execution_count": 52,
     "metadata": {},
     "output_type": "execute_result"
    }
   ],
   "source": [
    "# Function to identify second highest frequency element.\n",
    "# If there are many such elements return the smallest.\n",
    "# [1,2,3,2,1,4,4,9] -> 3\n",
    "\n",
    "# [9,8,7,6,5,2,3,4,9,6,7,7,7,6,7,6], k=4 -> 2\n",
    "\n",
    "\n",
    "def kHighestFrequency(s,k):\n",
    "    # Unique characters with frequencies \n",
    "    unique={}\n",
    "    for c in s:\n",
    "        if c not in unique:\n",
    "            unique[c]=1\n",
    "        else:\n",
    "            unique[c]+=1\n",
    "    #return unique\n",
    "    # Extract all unique frequencies in a list\n",
    "    # uniqfreq=[2,1,5,4]\n",
    "    uniqfreq=[]\n",
    "    for value in unique.values():\n",
    "        if value not in uniqfreq:\n",
    "            uniqfreq.append(value)\n",
    "    uniqfreq=sorted(uniqfreq,reverse=True)\n",
    "    # return uniqfreq\n",
    "    kfreq=uniqfreq[k-1]\n",
    "    # return kfreq\n",
    "    kfreqchar=[]\n",
    "    for key in unique.keys():\n",
    "        if \n",
    "    \n",
    "kHighestFrequency([9,8,7,6,5,2,3,4,9,6,7,7,7,6,7,6],2)\n",
    "    # unique = {9:2,8:1,7:5,6:4,5:1,2:1,3:1,4:1}\n",
    "    \n",
    "\n",
    "\n",
    "\n",
    "\n"
   ]
  },
  {
   "cell_type": "code",
   "execution_count": 47,
   "metadata": {},
   "outputs": [
    {
     "ename": "IndexError",
     "evalue": "list index out of range",
     "output_type": "error",
     "traceback": [
      "\u001b[1;31m---------------------------------------------------------------------------\u001b[0m",
      "\u001b[1;31mIndexError\u001b[0m                                Traceback (most recent call last)",
      "\u001b[1;32m<ipython-input-47-ae61d1023d90>\u001b[0m in \u001b[0;36m<module>\u001b[1;34m\u001b[0m\n\u001b[0;32m     32\u001b[0m     \u001b[1;32mreturn\u001b[0m \u001b[0mmaxfreqE\u001b[0m\u001b[1;33m[\u001b[0m\u001b[1;36m2\u001b[0m\u001b[1;33m]\u001b[0m\u001b[1;33m\u001b[0m\u001b[1;33m\u001b[0m\u001b[0m\n\u001b[0;32m     33\u001b[0m \u001b[1;33m\u001b[0m\u001b[0m\n\u001b[1;32m---> 34\u001b[1;33m \u001b[0msecondHighestFrequencyElement\u001b[0m\u001b[1;33m(\u001b[0m\u001b[1;33m[\u001b[0m\u001b[1;36m1\u001b[0m\u001b[1;33m,\u001b[0m\u001b[1;36m2\u001b[0m\u001b[1;33m,\u001b[0m\u001b[1;36m3\u001b[0m\u001b[1;33m,\u001b[0m\u001b[1;36m2\u001b[0m\u001b[1;33m,\u001b[0m\u001b[1;36m1\u001b[0m\u001b[1;33m,\u001b[0m\u001b[1;36m4\u001b[0m\u001b[1;33m,\u001b[0m\u001b[1;36m4\u001b[0m\u001b[1;33m,\u001b[0m\u001b[1;36m9\u001b[0m\u001b[1;33m]\u001b[0m\u001b[1;33m)\u001b[0m\u001b[1;33m\u001b[0m\u001b[1;33m\u001b[0m\u001b[0m\n\u001b[0m\u001b[0;32m     35\u001b[0m \u001b[1;33m\u001b[0m\u001b[0m\n",
      "\u001b[1;32m<ipython-input-47-ae61d1023d90>\u001b[0m in \u001b[0;36msecondHighestFrequencyElement\u001b[1;34m(li)\u001b[0m\n\u001b[0;32m     30\u001b[0m     \u001b[1;31m#return max(maxfreqE)\u001b[0m\u001b[1;33m\u001b[0m\u001b[1;33m\u001b[0m\u001b[1;33m\u001b[0m\u001b[0m\n\u001b[0;32m     31\u001b[0m     \u001b[0mmaxfreqE\u001b[0m\u001b[1;33m=\u001b[0m\u001b[0msorted\u001b[0m\u001b[1;33m(\u001b[0m\u001b[0mmaxfreqE\u001b[0m\u001b[1;33m,\u001b[0m\u001b[0mreverse\u001b[0m\u001b[1;33m=\u001b[0m\u001b[1;32mTrue\u001b[0m\u001b[1;33m)\u001b[0m\u001b[1;33m\u001b[0m\u001b[1;33m\u001b[0m\u001b[0m\n\u001b[1;32m---> 32\u001b[1;33m     \u001b[1;32mreturn\u001b[0m \u001b[0mmaxfreqE\u001b[0m\u001b[1;33m[\u001b[0m\u001b[1;36m2\u001b[0m\u001b[1;33m]\u001b[0m\u001b[1;33m\u001b[0m\u001b[1;33m\u001b[0m\u001b[0m\n\u001b[0m\u001b[0;32m     33\u001b[0m \u001b[1;33m\u001b[0m\u001b[0m\n\u001b[0;32m     34\u001b[0m \u001b[0msecondHighestFrequencyElement\u001b[0m\u001b[1;33m(\u001b[0m\u001b[1;33m[\u001b[0m\u001b[1;36m1\u001b[0m\u001b[1;33m,\u001b[0m\u001b[1;36m2\u001b[0m\u001b[1;33m,\u001b[0m\u001b[1;36m3\u001b[0m\u001b[1;33m,\u001b[0m\u001b[1;36m2\u001b[0m\u001b[1;33m,\u001b[0m\u001b[1;36m1\u001b[0m\u001b[1;33m,\u001b[0m\u001b[1;36m4\u001b[0m\u001b[1;33m,\u001b[0m\u001b[1;36m4\u001b[0m\u001b[1;33m,\u001b[0m\u001b[1;36m9\u001b[0m\u001b[1;33m]\u001b[0m\u001b[1;33m)\u001b[0m\u001b[1;33m\u001b[0m\u001b[1;33m\u001b[0m\u001b[0m\n",
      "\u001b[1;31mIndexError\u001b[0m: list index out of range"
     ]
    }
   ],
   "source": [
    "def secondHighestFrequencyElement(li):\n",
    "    # Extracting the unique elements with frequencies\n",
    "    u={}\n",
    "    for i in li:\n",
    "        if i not in u:\n",
    "            u[i]=1\n",
    "        else:\n",
    "            u[i]+=1 \n",
    "    # u = {1:2,2:2,3:2,9:1,8:1,7:1,4:1}\n",
    "    # Getting all frequencies in to a list\n",
    "    \n",
    "    freq=u.values()\n",
    "    f=sorted(u)\n",
    "    \n",
    "    # Extract all keys with maxfreq in a list\n",
    "    \n",
    "    kmaxfreq=f[4]\n",
    "    maxfreqE=[]\n",
    "    \n",
    "    # Identify the smallest number with maximum frequency\n",
    "    for item in u.items():\n",
    "        \n",
    "        # item->(key,value)\n",
    "        # item[1]\n",
    "        \n",
    "        if item[1]==kmaxfreq:\n",
    "            maxfreqE.append(item[0])\n",
    "    # select the minimum from the keys with maximum frequency\n",
    "    #return min(maxfreqE)  # minfreqE[k-1]\n",
    "    #return max(maxfreqE)\n",
    "    maxfreqE=sorted(maxfreqE,reverse=True)\n",
    "    return maxfreqE[2]\n",
    "    \n",
    "secondHighestFrequencyElement([1,2,3,2,1,4,4,9])      \n",
    "    "
   ]
  },
  {
   "cell_type": "code",
   "execution_count": null,
   "metadata": {},
   "outputs": [],
   "source": []
  },
  {
   "cell_type": "code",
   "execution_count": 30,
   "metadata": {},
   "outputs": [
    {
     "data": {
      "text/plain": [
       "[3, 4, 4, 4, 5, 5, 8, 8, 9]"
      ]
     },
     "execution_count": 30,
     "metadata": {},
     "output_type": "execute_result"
    }
   ],
   "source": [
    "li=[8,8,9,3,4,4,4,5,5]\n",
    "li.sort()\n",
    "li"
   ]
  },
  {
   "cell_type": "code",
   "execution_count": null,
   "metadata": {},
   "outputs": [],
   "source": []
  },
  {
   "cell_type": "code",
   "execution_count": 9,
   "metadata": {},
   "outputs": [
    {
     "name": "stdout",
     "output_type": "stream",
     "text": [
      "6\n"
     ]
    }
   ],
   "source": [
    "def khighestfrequency(s,k):\n",
    "   #unique characters with freq in a dictionary\n",
    "    unique={}\n",
    "    for i in s:\n",
    "        if i not in unique:\n",
    "            unique[i]=1\n",
    "        else:\n",
    "            unique[i]+=1  \n",
    "   #{9: 2, 7: 6, 6: 4, 5: 1, 2: 1, 3: 1, 4: 1}    \n",
    "   #Extract all unique frequencies in a list\n",
    "    l=[]\n",
    "    for value in unique.values():\n",
    "        if value not in l:\n",
    "            l.append(value)\n",
    "       \n",
    "    l=sorted(l,reverse=True)\n",
    "    if len(l)>k:\n",
    "        kfreq=l[k-1]\n",
    "    else:\n",
    "        return -1\n",
    "    kfreqchar=[]\n",
    "    for key in unique.items():\n",
    "        if key[1]==kfreq:\n",
    "            kfreqchar.append(key[0])\n",
    "    return min(kfreqchar)\n",
    "with open('DataFiles/k-highest.txt','r') as f:\n",
    "        t=int(f.readline())\n",
    "         for i in range(t):\n",
    "             s=f.readline()\n",
    "             k=int(f.readline())\n",
    "print(khighestfrequency([9,8,7,6,5,2,3,4,9,6,7,7,7,6,7,6],2))\n"
   ]
  },
  {
   "cell_type": "code",
   "execution_count": 6,
   "metadata": {},
   "outputs": [
    {
     "data": {
      "text/plain": [
       "4"
      ]
     },
     "execution_count": 6,
     "metadata": {},
     "output_type": "execute_result"
    }
   ],
   "source": [
    "l=[6,4,2,1]\n",
    "len(l)"
   ]
  },
  {
   "cell_type": "code",
   "execution_count": 12,
   "metadata": {},
   "outputs": [
    {
     "name": "stdout",
     "output_type": "stream",
     "text": [
      "s\n",
      "g\n",
      "h\n",
      "e\n",
      "w\n",
      "r\n",
      "n\n",
      "k\n",
      "-1\n",
      "-1\n"
     ]
    }
   ],
   "source": [
    "def khighestfrequency(s,k):\n",
    "   #unique characters with freq in a dictionary\n",
    "    unique={}\n",
    "    for i in s:\n",
    "        if i not in unique:\n",
    "            unique[i]=1\n",
    "        else:\n",
    "            unique[i]+=1  \n",
    "   #{9: 2, 7: 6, 6: 4, 5: 1, 2: 1, 3: 1, 4: 1}    \n",
    "   #Extract all unique frequencies in a list\n",
    "    l=[]\n",
    "    for value in unique.values():\n",
    "        if value not in l:\n",
    "            l.append(value)\n",
    "       \n",
    "    l=sorted(l,reverse=True)\n",
    "    if len(l)>k:\n",
    "        kfreq=l[k-1]\n",
    "    else:\n",
    "        return -1\n",
    "    kfreqchar=[]\n",
    "    for key in unique.items():\n",
    "        if key[1]==kfreq:\n",
    "            kfreqchar.append(key[0])\n",
    "    return min(kfreqchar)\n",
    "with open('DataFiles/k-highest.txt','r') as f:\n",
    "    t=int(f.readline())\n",
    "    for i in range(t):\n",
    "        s=f.readline()\n",
    "        k=int(f.readline())\n",
    "        print(khighestfrequency(s,k))"
   ]
  },
  {
   "cell_type": "code",
   "execution_count": null,
   "metadata": {},
   "outputs": [],
   "source": []
  },
  {
   "cell_type": "code",
   "execution_count": 24,
   "metadata": {},
   "outputs": [
    {
     "name": "stdout",
     "output_type": "stream",
     "text": [
      "Gopi Raju\n",
      "R . Gopi\n"
     ]
    }
   ],
   "source": [
    "s=input()\n",
    "l=s.split()\n",
    "w=l[1][0]\n",
    "print(w,'.',l[0])\n",
    "    "
   ]
  },
  {
   "cell_type": "code",
   "execution_count": 25,
   "metadata": {},
   "outputs": [
    {
     "name": "stdout",
     "output_type": "stream",
     "text": [
      "yamini nalini pavithra\n",
      "p . yamini\n"
     ]
    }
   ],
   "source": [
    "s=input()\n",
    "l=s.split()\n",
    "b=len(l)\n",
    "for i in range(1,b):\n",
    "    w=l[i][0]\n",
    "    print(w,'.'l[0])"
   ]
  },
  {
   "cell_type": "code",
   "execution_count": null,
   "metadata": {},
   "outputs": [],
   "source": []
  },
  {
   "cell_type": "code",
   "execution_count": 27,
   "metadata": {},
   "outputs": [
    {
     "name": "stdout",
     "output_type": "stream",
     "text": [
      "9\n"
     ]
    }
   ],
   "source": [
    "# K-Lowest frequency\n",
    "def klowestfrequency(s,k):\n",
    "   #unique characters with freq in a dictionary\n",
    "    unique={}\n",
    "    for i in s:\n",
    "        if i not in unique:\n",
    "            unique[i]=1\n",
    "        else:\n",
    "            unique[i]+=1  \n",
    "   #{9: 2, 7: 6, 6: 4, 5: 1, 2: 1, 3: 1, 4: 1}    \n",
    "   #Extract all unique frequencies in a list\n",
    "    l=[]\n",
    "    for value in unique.values():\n",
    "        if value not in l:\n",
    "            l.append(value)\n",
    "       \n",
    "    l=sorted(l)\n",
    "    if len(l)>k:\n",
    "        kfreq=l[k-1]\n",
    "    else:\n",
    "        return -1\n",
    "    kfreqchar=[]\n",
    "    for key in unique.items():\n",
    "        if key[1]==kfreq:\n",
    "            kfreqchar.append(key[0])\n",
    "    return min(kfreqchar)\n",
    "print(klowestfrequency([9,8,7,6,5,2,3,4,9,6,7,7,7,6,7,6],2))\n",
    "# with open('DataFiles/k-highest.txt','r') as f:\n",
    "#     t=int(f.readline())\n",
    "#     for i in range(t):\n",
    "#         s=f.readline()\n",
    "#         k=int(f.readline())\n",
    "#         print(khighestfrequency(s,k))"
   ]
  },
  {
   "cell_type": "code",
   "execution_count": null,
   "metadata": {},
   "outputs": [],
   "source": []
  },
  {
   "cell_type": "code",
   "execution_count": null,
   "metadata": {},
   "outputs": [],
   "source": []
  },
  {
   "cell_type": "code",
   "execution_count": null,
   "metadata": {},
   "outputs": [],
   "source": []
  },
  {
   "cell_type": "code",
   "execution_count": null,
   "metadata": {},
   "outputs": [],
   "source": []
  }
 ],
 "metadata": {
  "kernelspec": {
   "display_name": "Python 3",
   "language": "python",
   "name": "python3"
  },
  "language_info": {
   "codemirror_mode": {
    "name": "ipython",
    "version": 3
   },
   "file_extension": ".py",
   "mimetype": "text/x-python",
   "name": "python",
   "nbconvert_exporter": "python",
   "pygments_lexer": "ipython3",
   "version": "3.7.3"
  }
 },
 "nbformat": 4,
 "nbformat_minor": 2
}
