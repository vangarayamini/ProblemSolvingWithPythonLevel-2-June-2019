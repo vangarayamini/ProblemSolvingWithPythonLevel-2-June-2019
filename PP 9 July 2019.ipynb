{
 "cells": [
  {
   "cell_type": "code",
   "execution_count": null,
   "metadata": {},
   "outputs": [],
   "source": [
    "l=list(map(int,input().split()))\n",
    "s=sum(l)\n",
    "print(s)"
   ]
  },
  {
   "cell_type": "code",
   "execution_count": 1,
   "metadata": {},
   "outputs": [
    {
     "name": "stdout",
     "output_type": "stream",
     "text": [
      "True\n",
      "False\n"
     ]
    }
   ],
   "source": [
    "# Write a Python program to check if all dictionaries in a list are empty or not. Go to the editor\n",
    "# Sample list : [{},{},{}]\n",
    "# Return value : True\n",
    "# Sample list : [{1,2},{},{}]\n",
    "# Return value : False\n",
    "\n",
    "my_list = [{},{},{}]\n",
    "my_list1 = [{1,2},{},{}]\n",
    "print(all(not d for d in my_list))\n",
    "print(all(not d for d in my_list1))"
   ]
  },
  {
   "cell_type": "code",
   "execution_count": 9,
   "metadata": {},
   "outputs": [
    {
     "name": "stdout",
     "output_type": "stream",
     "text": [
      "[10, 20, 30, 40, 50, 60]\n"
     ]
    }
   ],
   "source": [
    "l=[10,20,30]\n",
    "l1=[40,50,60]\n",
    "l.extend(l1)\n",
    "print(l)"
   ]
  },
  {
   "cell_type": "code",
   "execution_count": 10,
   "metadata": {},
   "outputs": [
    {
     "name": "stdout",
     "output_type": "stream",
     "text": [
      "1 2 3 4 5 6\n",
      "3\n",
      "4 5 6 "
     ]
    }
   ],
   "source": [
    "l=list(map(int,input().split()))\n",
    "n=int(input())\n",
    "for i in range(0,len(l),1):\n",
    "    if l[i]>n:\n",
    "        print(l[i],end=\" \")\n",
    "\n",
    "    "
   ]
  },
  {
   "cell_type": "code",
   "execution_count": 11,
   "metadata": {},
   "outputs": [
    {
     "name": "stdout",
     "output_type": "stream",
     "text": [
      "1 2 3 4\n",
      "24\n"
     ]
    }
   ],
   "source": [
    "l=list(map(int,input().split()))\n",
    "r=1\n",
    "for i in range(0,len(l),1):\n",
    "    r=r*l[i]\n",
    "print(r)"
   ]
  },
  {
   "cell_type": "code",
   "execution_count": 12,
   "metadata": {},
   "outputs": [
    {
     "name": "stdout",
     "output_type": "stream",
     "text": [
      "8 9 3 5 6\n",
      "9\n"
     ]
    }
   ],
   "source": [
    "l=list(map(int,input().split()))\n",
    "l=sorted(l,reverse=True)\n",
    "print(l[0])"
   ]
  },
  {
   "cell_type": "code",
   "execution_count": 15,
   "metadata": {},
   "outputs": [
    {
     "name": "stdout",
     "output_type": "stream",
     "text": [
      "1 2 3 45\n",
      "smallest number is: 1\n"
     ]
    }
   ],
   "source": [
    "l=list(map(int,input().split()))\n",
    "l=sorted(l)\n",
    "print(\"smallest number is:\",l[0])"
   ]
  },
  {
   "cell_type": "code",
   "execution_count": 19,
   "metadata": {},
   "outputs": [
    {
     "name": "stdout",
     "output_type": "stream",
     "text": [
      "1 2 3 4\n",
      "maximum element is 4\n",
      "minimum element is 1\n"
     ]
    }
   ],
   "source": [
    "l=list(map(int,input().split()))\n",
    "maxi=max(l)\n",
    "mini=min(l)\n",
    "print(\"maximum element is\",maxi)\n",
    "print(\"minimum element is\",mini)"
   ]
  },
  {
   "cell_type": "code",
   "execution_count": 20,
   "metadata": {},
   "outputs": [
    {
     "name": "stdout",
     "output_type": "stream",
     "text": [
      "1 2 3 4\n",
      "4\n"
     ]
    }
   ],
   "source": [
    "l=list(map(int,input().split()))\n",
    "maximum=-222\n",
    "for i in range(0,len(l),1):\n",
    "    if maximum<l[i]:\n",
    "        maximum=l[i]\n",
    "print(maximum)"
   ]
  },
  {
   "cell_type": "markdown",
   "metadata": {},
   "source": []
  },
  {
   "cell_type": "code",
   "execution_count": null,
   "metadata": {},
   "outputs": [],
   "source": []
  },
  {
   "cell_type": "code",
   "execution_count": null,
   "metadata": {},
   "outputs": [],
   "source": []
  },
  {
   "cell_type": "code",
   "execution_count": null,
   "metadata": {},
   "outputs": [],
   "source": []
  },
  {
   "cell_type": "code",
   "execution_count": null,
   "metadata": {},
   "outputs": [],
   "source": []
  }
 ],
 "metadata": {
  "kernelspec": {
   "display_name": "Python 3",
   "language": "python",
   "name": "python3"
  },
  "language_info": {
   "codemirror_mode": {
    "name": "ipython",
    "version": 3
   },
   "file_extension": ".py",
   "mimetype": "text/x-python",
   "name": "python",
   "nbconvert_exporter": "python",
   "pygments_lexer": "ipython3",
   "version": "3.7.3"
  }
 },
 "nbformat": 4,
 "nbformat_minor": 2
}
