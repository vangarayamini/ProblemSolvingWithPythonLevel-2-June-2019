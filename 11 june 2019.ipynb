{
 "cells": [
  {
   "cell_type": "markdown",
   "metadata": {},
   "source": [
    "# Markdown Basics\n",
    "* **Bold** \n",
    "* *Italic* \n",
    "* ***IB***\n",
    "* *Normal Text*\n",
    " * sublist 1\n",
    " * sublist 2\n",
    " \n",
    " \n",
    ">1. Ordered list element 1 \n",
    ">2. Ordered list element 2\n",
    "\n",
    " I get 10 times more traffic from [Google] [1] than from\n",
    "[Yahoo] [2] or [MSN] [3].\n",
    "\n",
    "  [1]: http://google.com/        \"Google\"\n",
    "  [2]: http://search.yahoo.com/  \"Yahoo Search\"\n",
    "  [3]: http://search.msn.com/    \"MSN Search\"\n",
    "  \n",
    "  `printf(\"hello markdown\")`\n",
    "  \n",
    "  <http://google.com>\n",
    "  \n",
    "  <markdown@google.com>\n",
    "\n",
    "[Jupyter Logo](logo.png)\n",
    "\n",
    "![Jupyter Logo](logo.png)\n",
    "\n",
    "<img src=\"logo.png\" style=\"float:left\">\n"
   ]
  },
  {
   "cell_type": "markdown",
   "metadata": {},
   "source": [
    "# Python Basics\n",
    "\n",
    "## Python Version 3.7\n",
    "\n",
    "* *Scripting Language(line by line execution)*\n",
    "* *Object Oriented*"
   ]
  },
  {
   "cell_type": "code",
   "execution_count": 14,
   "metadata": {},
   "outputs": [
    {
     "name": "stdout",
     "output_type": "stream",
     "text": [
      "Good Afternoon !|| Hello Python\n"
     ]
    }
   ],
   "source": [
    "# python comments\n",
    "\n",
    "print(\"Good Afternoon\", \"!\", end=\"|| \") # Basic Output\n",
    "print(\"Hello Python\")"
   ]
  },
  {
   "cell_type": "code",
   "execution_count": null,
   "metadata": {},
   "outputs": [],
   "source": []
  },
  {
   "cell_type": "markdown",
   "metadata": {},
   "source": [
    "### Assignment"
   ]
  },
  {
   "cell_type": "code",
   "execution_count": 23,
   "metadata": {},
   "outputs": [
    {
     "name": "stdout",
     "output_type": "stream",
     "text": [
      "123 234 345\n"
     ]
    }
   ],
   "source": [
    "n1 = 123456 # single variable Assignment\n",
    "\n",
    "n2=n3=n4=n1 # Multi variable Assignment of the \n",
    "\n",
    "\n",
    "a,b,c=123,234,345 # Multi Variable Assignment with Different values\n",
    "\n",
    "\n",
    "a\n",
    "b\n",
    "c\n",
    "\n",
    "print(a,b,c)"
   ]
  },
  {
   "cell_type": "code",
   "execution_count": null,
   "metadata": {},
   "outputs": [],
   "source": []
  },
  {
   "cell_type": "markdown",
   "metadata": {},
   "source": [
    "### Arithmetic Operations\n",
    "\n",
    "- +\n",
    "- -\n",
    "- *\n",
    "- /\n",
    "- %\n",
    "- **"
   ]
  },
  {
   "cell_type": "code",
   "execution_count": 56,
   "metadata": {},
   "outputs": [
    {
     "data": {
      "text/plain": [
       "6130687873308026945890176790042303730066739281"
      ]
     },
     "execution_count": 56,
     "metadata": {},
     "output_type": "execute_result"
    }
   ],
   "source": [
    "n1 % 11\n",
    "\n",
    "n3=n2**12\n",
    "\n",
    "type(n3)\n",
    "\n",
    "len(str(n3))\n",
    "\n",
    "atoms=10**82\n",
    "len(str(atoms))\n",
    "type(str(atoms))\n",
    "\n",
    "122321**9\n"
   ]
  },
  {
   "cell_type": "code",
   "execution_count": null,
   "metadata": {},
   "outputs": [],
   "source": []
  },
  {
   "cell_type": "markdown",
   "metadata": {},
   "source": [
    "###  Conditionals\n",
    "\n",
    "\n",
    "\n"
   ]
  },
  {
   "cell_type": "code",
   "execution_count": 62,
   "metadata": {},
   "outputs": [
    {
     "name": "stdout",
     "output_type": "stream",
     "text": [
      "FALSE\n"
     ]
    }
   ],
   "source": [
    "if atoms < 10**9:\n",
    "    print(\"TRUE\")\n",
    "else:\n",
    "    print(\"FALSE\")\n",
    "\n"
   ]
  },
  {
   "cell_type": "code",
   "execution_count": null,
   "metadata": {},
   "outputs": [],
   "source": []
  },
  {
   "cell_type": "markdown",
   "metadata": {},
   "source": [
    "### Data  types and conversions\n",
    "\n",
    "- int\n",
    "- string\n",
    "- float"
   ]
  },
  {
   "cell_type": "code",
   "execution_count": 55,
   "metadata": {},
   "outputs": [
    {
     "data": {
      "text/plain": [
       "12.0"
      ]
     },
     "execution_count": 55,
     "metadata": {},
     "output_type": "execute_result"
    }
   ],
   "source": [
    "\n",
    "type(a)\n",
    "s1=\"python\"\n",
    "type(s1)\n",
    "\n",
    "f1=12.345\n",
    "type(f1)\n",
    "\n",
    "float(str(int(f1)))\n"
   ]
  },
  {
   "cell_type": "code",
   "execution_count": 4,
   "metadata": {},
   "outputs": [
    {
     "name": "stdout",
     "output_type": "stream",
     "text": [
      "entr the first number2\n",
      "entr the second number7\n",
      "enter the third number9\n",
      "9 is the greatest\n"
     ]
    }
   ],
   "source": [
    "# Find greatest of 3 numbers\n",
    "\n",
    "n1=int(input(\"entr the first number\"))\n",
    "n2=int(input(\"entr the second number\"))\n",
    "n3=int(input(\"enter the third number\"))\n",
    "\n",
    "if n1>n2 and n1>n3:\n",
    "    print(n1, \"is the greatest\")\n",
    "elif n2>n3:\n",
    "    print(n2, \"is the greatest\")\n",
    "else:\n",
    "    print(n3, \"is the greatest\")\n"
   ]
  },
  {
   "cell_type": "code",
   "execution_count": null,
   "metadata": {},
   "outputs": [],
   "source": []
  },
  {
   "cell_type": "code",
   "execution_count": 18,
   "metadata": {},
   "outputs": [
    {
     "name": "stdout",
     "output_type": "stream",
     "text": [
      "enter year1996\n",
      "leap year\n"
     ]
    }
   ],
   "source": [
    "# Check if a year is a Leap Year\n",
    "\n",
    "n=int(input(\"enter year\"))\n",
    "\n",
    "if n%400==0 or (n%100!=0 and n%4==0):\n",
    "    print(\"leap year\")\n",
    "else:\n",
    "    print(\"not a leap year\")\n"
   ]
  },
  {
   "cell_type": "code",
   "execution_count": 9,
   "metadata": {},
   "outputs": [
    {
     "name": "stdout",
     "output_type": "stream",
     "text": [
      "enter no.8\n",
      "enter lb2\n",
      "enter ub5\n",
      "no. do not exists\n"
     ]
    }
   ],
   "source": [
    "# Check if a number exists in a given range\n",
    "\n",
    "n=int(input(\"enter no.\"))\n",
    "lb=int(input(\"enter lb\"))\n",
    "ub=int(input(\"enter ub\"))\n",
    "\n",
    "if n>=lb and n<=ub:\n",
    "    print(\"no. exists\")\n",
    "else:\n",
    "    print(\"no. do not exists\")"
   ]
  },
  {
   "cell_type": "code",
   "execution_count": 12,
   "metadata": {},
   "outputs": [
    {
     "name": "stdout",
     "output_type": "stream",
     "text": [
      "enter no.4\n",
      "It is not a multiple of 10\n"
     ]
    }
   ],
   "source": [
    "#Check if  a number is multiple of 10\n",
    "\n",
    "n=int(input(\"enter no.\"))\n",
    "\n",
    "if(n%10==0):\n",
    "    print(\"It is a multiple of 10\")\n",
    "else:\n",
    "     print(\"It is not a multiple of 10\")\n"
   ]
  },
  {
   "cell_type": "code",
   "execution_count": 22,
   "metadata": {},
   "outputs": [
    {
     "name": "stdout",
     "output_type": "stream",
     "text": [
      "enter no.2\n",
      "It is a multiple of 10\n"
     ]
    }
   ],
   "source": [
    "#Check if  a number is factor of 1000\n",
    "\n",
    "n=int(input(\"enter no.\"))\n",
    "\n",
    "if(1000%n==0):\n",
    "    print(\"It is a factor of 10\")\n",
    "else:\n",
    "     print(\"It is not a factor of 10\")"
   ]
  },
  {
   "cell_type": "code",
   "execution_count": 17,
   "metadata": {},
   "outputs": [
    {
     "name": "stdout",
     "output_type": "stream",
     "text": [
      "enter no.12345\n"
     ]
    },
    {
     "data": {
      "text/plain": [
       "5"
      ]
     },
     "execution_count": 17,
     "metadata": {},
     "output_type": "execute_result"
    }
   ],
   "source": [
    "# calculate the number of digits in a number\n",
    "\n",
    "\n",
    "n=int(input(\"enter no.\"))\n",
    "len(str(n))\n"
   ]
  },
  {
   "cell_type": "code",
   "execution_count": 19,
   "metadata": {},
   "outputs": [
    {
     "name": "stdout",
     "output_type": "stream",
     "text": [
      "123456 is equal to 123456\n"
     ]
    }
   ],
   "source": [
    "# check if a given string is equal to a number\n",
    "s1=\"123456\"\n",
    "n1=123456\n",
    "if str(n1)==s1:\n",
    "    print(n1, \"is equal to\",s1)\n",
    "else:\n",
    "    print(n1, \"is not equal to\",s2)"
   ]
  },
  {
   "cell_type": "code",
   "execution_count": 20,
   "metadata": {},
   "outputs": [
    {
     "data": {
      "text/plain": [
       "11.090536506409418"
      ]
     },
     "execution_count": 20,
     "metadata": {},
     "output_type": "execute_result"
    }
   ],
   "source": [
    "# Calculate the square root of a function with out any math function\n",
    "n1=123\n",
    "n1**0.5"
   ]
  },
  {
   "cell_type": "code",
   "execution_count": 21,
   "metadata": {},
   "outputs": [
    {
     "name": "stdout",
     "output_type": "stream",
     "text": [
      "31622400000000000\n"
     ]
    }
   ],
   "source": [
    "#Calculate the nano seconds in a given year(considering leap year logic)\n",
    "\n",
    "year=1234\n",
    "if n%400==0 or (n%100!=0 and n%4==0):\n",
    "    print(366*24*60*60*(10**9))\n",
    "else:\n",
    "    print(365*24*60*60*(10**9))\n"
   ]
  },
  {
   "cell_type": "code",
   "execution_count": null,
   "metadata": {},
   "outputs": [],
   "source": []
  }
 ],
 "metadata": {
  "kernelspec": {
   "display_name": "Python 3",
   "language": "python",
   "name": "python3"
  },
  "language_info": {
   "codemirror_mode": {
    "name": "ipython",
    "version": 3
   },
   "file_extension": ".py",
   "mimetype": "text/x-python",
   "name": "python",
   "nbconvert_exporter": "python",
   "pygments_lexer": "ipython3",
   "version": "3.7.3"
  }
 },
 "nbformat": 4,
 "nbformat_minor": 2
}
